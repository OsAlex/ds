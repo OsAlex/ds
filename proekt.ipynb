{
 "cells": [
  {
   "cell_type": "code",
   "execution_count": 1,
   "metadata": {},
   "outputs": [
    {
     "name": "stdout",
     "output_type": "stream",
     "text": [
      "<class 'pandas.core.frame.DataFrame'>\n",
      "RangeIndex: 10000 entries, 0 to 9999\n",
      "Data columns (total 20 columns):\n",
      "Id               10000 non-null int64\n",
      "DistrictId       10000 non-null int64\n",
      "Rooms            10000 non-null float64\n",
      "Square           10000 non-null float64\n",
      "LifeSquare       7887 non-null float64\n",
      "KitchenSquare    10000 non-null float64\n",
      "Floor            10000 non-null int64\n",
      "HouseFloor       10000 non-null float64\n",
      "HouseYear        10000 non-null int64\n",
      "Ecology_1        10000 non-null float64\n",
      "Ecology_2        10000 non-null object\n",
      "Ecology_3        10000 non-null object\n",
      "Social_1         10000 non-null int64\n",
      "Social_2         10000 non-null int64\n",
      "Social_3         10000 non-null int64\n",
      "Healthcare_1     5202 non-null float64\n",
      "Helthcare_2      10000 non-null int64\n",
      "Shops_1          10000 non-null int64\n",
      "Shops_2          10000 non-null object\n",
      "Price            10000 non-null float64\n",
      "dtypes: float64(8), int64(9), object(3)\n",
      "memory usage: 1.5+ MB\n"
     ]
    }
   ],
   "source": [
    "import numpy as np\n",
    "import pandas as pd\n",
    "import matplotlib.pyplot as plt\n",
    "#%matplotlib inline\n",
    "#%config InlineBackend.figure_format = 'svg'\n",
    "import sklearn\n",
    "\n",
    "from sklearn.model_selection import train_test_split\n",
    "\n",
    "from sklearn.metrics import r2_score\n",
    "from sklearn.metrics import mean_squared_error\n",
    "\n",
    "data = pd.read_csv(\"train.csv\")\n",
    "\n",
    "data.info()\n",
    "\n",
    "\n"
   ]
  },
  {
   "cell_type": "code",
   "execution_count": 2,
   "metadata": {},
   "outputs": [
    {
     "data": {
      "text/html": [
       "<div>\n",
       "<style scoped>\n",
       "    .dataframe tbody tr th:only-of-type {\n",
       "        vertical-align: middle;\n",
       "    }\n",
       "\n",
       "    .dataframe tbody tr th {\n",
       "        vertical-align: top;\n",
       "    }\n",
       "\n",
       "    .dataframe thead th {\n",
       "        text-align: right;\n",
       "    }\n",
       "</style>\n",
       "<table border=\"1\" class=\"dataframe\">\n",
       "  <thead>\n",
       "    <tr style=\"text-align: right;\">\n",
       "      <th></th>\n",
       "      <th>Id</th>\n",
       "      <th>DistrictId</th>\n",
       "      <th>Rooms</th>\n",
       "      <th>Square</th>\n",
       "      <th>LifeSquare</th>\n",
       "      <th>KitchenSquare</th>\n",
       "      <th>Floor</th>\n",
       "      <th>HouseFloor</th>\n",
       "      <th>HouseYear</th>\n",
       "      <th>Ecology_1</th>\n",
       "      <th>Ecology_2</th>\n",
       "      <th>Ecology_3</th>\n",
       "      <th>Social_1</th>\n",
       "      <th>Social_2</th>\n",
       "      <th>Social_3</th>\n",
       "      <th>Healthcare_1</th>\n",
       "      <th>Helthcare_2</th>\n",
       "      <th>Shops_1</th>\n",
       "      <th>Shops_2</th>\n",
       "      <th>Price</th>\n",
       "    </tr>\n",
       "  </thead>\n",
       "  <tbody>\n",
       "    <tr>\n",
       "      <th>0</th>\n",
       "      <td>14038</td>\n",
       "      <td>35</td>\n",
       "      <td>2.0</td>\n",
       "      <td>47.981561</td>\n",
       "      <td>29.442751</td>\n",
       "      <td>6.0</td>\n",
       "      <td>7</td>\n",
       "      <td>9.0</td>\n",
       "      <td>1969</td>\n",
       "      <td>0.089040</td>\n",
       "      <td>B</td>\n",
       "      <td>B</td>\n",
       "      <td>33</td>\n",
       "      <td>7976</td>\n",
       "      <td>5</td>\n",
       "      <td>NaN</td>\n",
       "      <td>0</td>\n",
       "      <td>11</td>\n",
       "      <td>B</td>\n",
       "      <td>184966.930730</td>\n",
       "    </tr>\n",
       "    <tr>\n",
       "      <th>1</th>\n",
       "      <td>15053</td>\n",
       "      <td>41</td>\n",
       "      <td>3.0</td>\n",
       "      <td>65.683640</td>\n",
       "      <td>40.049543</td>\n",
       "      <td>8.0</td>\n",
       "      <td>7</td>\n",
       "      <td>9.0</td>\n",
       "      <td>1978</td>\n",
       "      <td>0.000070</td>\n",
       "      <td>B</td>\n",
       "      <td>B</td>\n",
       "      <td>46</td>\n",
       "      <td>10309</td>\n",
       "      <td>1</td>\n",
       "      <td>240.0</td>\n",
       "      <td>1</td>\n",
       "      <td>16</td>\n",
       "      <td>B</td>\n",
       "      <td>300009.450063</td>\n",
       "    </tr>\n",
       "    <tr>\n",
       "      <th>2</th>\n",
       "      <td>4765</td>\n",
       "      <td>53</td>\n",
       "      <td>2.0</td>\n",
       "      <td>44.947953</td>\n",
       "      <td>29.197612</td>\n",
       "      <td>0.0</td>\n",
       "      <td>8</td>\n",
       "      <td>12.0</td>\n",
       "      <td>1968</td>\n",
       "      <td>0.049637</td>\n",
       "      <td>B</td>\n",
       "      <td>B</td>\n",
       "      <td>34</td>\n",
       "      <td>7759</td>\n",
       "      <td>0</td>\n",
       "      <td>229.0</td>\n",
       "      <td>1</td>\n",
       "      <td>3</td>\n",
       "      <td>B</td>\n",
       "      <td>220925.908524</td>\n",
       "    </tr>\n",
       "    <tr>\n",
       "      <th>3</th>\n",
       "      <td>5809</td>\n",
       "      <td>58</td>\n",
       "      <td>2.0</td>\n",
       "      <td>53.352981</td>\n",
       "      <td>52.731512</td>\n",
       "      <td>9.0</td>\n",
       "      <td>8</td>\n",
       "      <td>17.0</td>\n",
       "      <td>1977</td>\n",
       "      <td>0.437885</td>\n",
       "      <td>B</td>\n",
       "      <td>B</td>\n",
       "      <td>23</td>\n",
       "      <td>5735</td>\n",
       "      <td>3</td>\n",
       "      <td>1084.0</td>\n",
       "      <td>0</td>\n",
       "      <td>5</td>\n",
       "      <td>B</td>\n",
       "      <td>175616.227217</td>\n",
       "    </tr>\n",
       "    <tr>\n",
       "      <th>4</th>\n",
       "      <td>10783</td>\n",
       "      <td>99</td>\n",
       "      <td>1.0</td>\n",
       "      <td>39.649192</td>\n",
       "      <td>23.776169</td>\n",
       "      <td>7.0</td>\n",
       "      <td>11</td>\n",
       "      <td>12.0</td>\n",
       "      <td>1976</td>\n",
       "      <td>0.012339</td>\n",
       "      <td>B</td>\n",
       "      <td>B</td>\n",
       "      <td>35</td>\n",
       "      <td>5776</td>\n",
       "      <td>1</td>\n",
       "      <td>2078.0</td>\n",
       "      <td>2</td>\n",
       "      <td>4</td>\n",
       "      <td>B</td>\n",
       "      <td>150226.531644</td>\n",
       "    </tr>\n",
       "  </tbody>\n",
       "</table>\n",
       "</div>"
      ],
      "text/plain": [
       "      Id  DistrictId  Rooms     Square  LifeSquare  KitchenSquare  Floor  \\\n",
       "0  14038          35    2.0  47.981561   29.442751            6.0      7   \n",
       "1  15053          41    3.0  65.683640   40.049543            8.0      7   \n",
       "2   4765          53    2.0  44.947953   29.197612            0.0      8   \n",
       "3   5809          58    2.0  53.352981   52.731512            9.0      8   \n",
       "4  10783          99    1.0  39.649192   23.776169            7.0     11   \n",
       "\n",
       "   HouseFloor  HouseYear  Ecology_1 Ecology_2 Ecology_3  Social_1  Social_2  \\\n",
       "0         9.0       1969   0.089040         B         B        33      7976   \n",
       "1         9.0       1978   0.000070         B         B        46     10309   \n",
       "2        12.0       1968   0.049637         B         B        34      7759   \n",
       "3        17.0       1977   0.437885         B         B        23      5735   \n",
       "4        12.0       1976   0.012339         B         B        35      5776   \n",
       "\n",
       "   Social_3  Healthcare_1  Helthcare_2  Shops_1 Shops_2          Price  \n",
       "0         5           NaN            0       11       B  184966.930730  \n",
       "1         1         240.0            1       16       B  300009.450063  \n",
       "2         0         229.0            1        3       B  220925.908524  \n",
       "3         3        1084.0            0        5       B  175616.227217  \n",
       "4         1        2078.0            2        4       B  150226.531644  "
      ]
     },
     "execution_count": 2,
     "metadata": {},
     "output_type": "execute_result"
    }
   ],
   "source": [
    "data.head()"
   ]
  },
  {
   "cell_type": "code",
   "execution_count": 3,
   "metadata": {},
   "outputs": [
    {
     "data": {
      "text/plain": [
       "count    1.000000e+04\n",
       "mean     3.990166e+03\n",
       "std      2.005003e+05\n",
       "min      1.910000e+03\n",
       "25%      1.974000e+03\n",
       "50%      1.977000e+03\n",
       "75%      2.001000e+03\n",
       "max      2.005201e+07\n",
       "Name: HouseYear, dtype: float64"
      ]
     },
     "execution_count": 3,
     "metadata": {},
     "output_type": "execute_result"
    }
   ],
   "source": [
    "data['HouseYear'].describe()"
   ]
  },
  {
   "cell_type": "code",
   "execution_count": 4,
   "metadata": {},
   "outputs": [],
   "source": [
    "data['HouseYear']=data['HouseYear'].apply(lambda x: data['HouseYear'].describe()['50%'] if x > 2020 else x)"
   ]
  },
  {
   "cell_type": "code",
   "execution_count": 5,
   "metadata": {},
   "outputs": [
    {
     "data": {
      "text/plain": [
       "count    10000.000000\n",
       "mean      1984.863800\n",
       "std         18.409979\n",
       "min       1910.000000\n",
       "25%       1974.000000\n",
       "50%       1977.000000\n",
       "75%       2001.000000\n",
       "max       2020.000000\n",
       "Name: HouseYear, dtype: float64"
      ]
     },
     "execution_count": 5,
     "metadata": {},
     "output_type": "execute_result"
    }
   ],
   "source": [
    "data['HouseYear'].describe()"
   ]
  },
  {
   "cell_type": "code",
   "execution_count": 6,
   "metadata": {},
   "outputs": [],
   "source": [
    "data['DistrictId'] = data['DistrictId'].apply(str)"
   ]
  },
  {
   "cell_type": "code",
   "execution_count": 7,
   "metadata": {},
   "outputs": [],
   "source": [
    "numeric_subset = data[['Id','Social_2', 'Healthcare_1', 'Helthcare_2', 'HouseYear','HouseFloor','Floor','KitchenSquare','LifeSquare','Square','Rooms', 'Shops_1', 'Ecology_1','Price']]\n",
    "categorical_subset = data[['DistrictId', 'Ecology_2', 'Ecology_3','Shops_2']]\n",
    "categorical_subset = pd.get_dummies(categorical_subset)\n",
    "\n",
    "data = pd.concat([numeric_subset, categorical_subset], axis = 1)"
   ]
  },
  {
   "cell_type": "code",
   "execution_count": 8,
   "metadata": {},
   "outputs": [
    {
     "data": {
      "text/html": [
       "<div>\n",
       "<style scoped>\n",
       "    .dataframe tbody tr th:only-of-type {\n",
       "        vertical-align: middle;\n",
       "    }\n",
       "\n",
       "    .dataframe tbody tr th {\n",
       "        vertical-align: top;\n",
       "    }\n",
       "\n",
       "    .dataframe thead th {\n",
       "        text-align: right;\n",
       "    }\n",
       "</style>\n",
       "<table border=\"1\" class=\"dataframe\">\n",
       "  <thead>\n",
       "    <tr style=\"text-align: right;\">\n",
       "      <th></th>\n",
       "      <th>Id</th>\n",
       "      <th>Social_2</th>\n",
       "      <th>Healthcare_1</th>\n",
       "      <th>Helthcare_2</th>\n",
       "      <th>HouseYear</th>\n",
       "      <th>HouseFloor</th>\n",
       "      <th>Floor</th>\n",
       "      <th>KitchenSquare</th>\n",
       "      <th>LifeSquare</th>\n",
       "      <th>Square</th>\n",
       "      <th>...</th>\n",
       "      <th>DistrictId_96</th>\n",
       "      <th>DistrictId_97</th>\n",
       "      <th>DistrictId_98</th>\n",
       "      <th>DistrictId_99</th>\n",
       "      <th>Ecology_2_A</th>\n",
       "      <th>Ecology_2_B</th>\n",
       "      <th>Ecology_3_A</th>\n",
       "      <th>Ecology_3_B</th>\n",
       "      <th>Shops_2_A</th>\n",
       "      <th>Shops_2_B</th>\n",
       "    </tr>\n",
       "  </thead>\n",
       "  <tbody>\n",
       "    <tr>\n",
       "      <th>0</th>\n",
       "      <td>14038</td>\n",
       "      <td>0.412794</td>\n",
       "      <td>NaN</td>\n",
       "      <td>0.000000</td>\n",
       "      <td>0.536364</td>\n",
       "      <td>0.076923</td>\n",
       "      <td>0.146341</td>\n",
       "      <td>0.002979</td>\n",
       "      <td>0.003887</td>\n",
       "      <td>0.073203</td>\n",
       "      <td>...</td>\n",
       "      <td>0</td>\n",
       "      <td>0</td>\n",
       "      <td>0</td>\n",
       "      <td>0</td>\n",
       "      <td>0</td>\n",
       "      <td>1</td>\n",
       "      <td>0</td>\n",
       "      <td>1</td>\n",
       "      <td>0</td>\n",
       "      <td>1</td>\n",
       "    </tr>\n",
       "    <tr>\n",
       "      <th>1</th>\n",
       "      <td>15053</td>\n",
       "      <td>0.536135</td>\n",
       "      <td>0.049495</td>\n",
       "      <td>0.166667</td>\n",
       "      <td>0.618182</td>\n",
       "      <td>0.076923</td>\n",
       "      <td>0.146341</td>\n",
       "      <td>0.003972</td>\n",
       "      <td>0.005305</td>\n",
       "      <td>0.100866</td>\n",
       "      <td>...</td>\n",
       "      <td>0</td>\n",
       "      <td>0</td>\n",
       "      <td>0</td>\n",
       "      <td>0</td>\n",
       "      <td>0</td>\n",
       "      <td>1</td>\n",
       "      <td>0</td>\n",
       "      <td>1</td>\n",
       "      <td>0</td>\n",
       "      <td>1</td>\n",
       "    </tr>\n",
       "    <tr>\n",
       "      <th>2</th>\n",
       "      <td>4765</td>\n",
       "      <td>0.401322</td>\n",
       "      <td>0.047226</td>\n",
       "      <td>0.166667</td>\n",
       "      <td>0.527273</td>\n",
       "      <td>0.102564</td>\n",
       "      <td>0.170732</td>\n",
       "      <td>0.000000</td>\n",
       "      <td>0.003854</td>\n",
       "      <td>0.068463</td>\n",
       "      <td>...</td>\n",
       "      <td>0</td>\n",
       "      <td>0</td>\n",
       "      <td>0</td>\n",
       "      <td>0</td>\n",
       "      <td>0</td>\n",
       "      <td>1</td>\n",
       "      <td>0</td>\n",
       "      <td>1</td>\n",
       "      <td>0</td>\n",
       "      <td>1</td>\n",
       "    </tr>\n",
       "    <tr>\n",
       "      <th>3</th>\n",
       "      <td>5809</td>\n",
       "      <td>0.294317</td>\n",
       "      <td>0.223551</td>\n",
       "      <td>0.000000</td>\n",
       "      <td>0.609091</td>\n",
       "      <td>0.145299</td>\n",
       "      <td>0.170732</td>\n",
       "      <td>0.004469</td>\n",
       "      <td>0.007000</td>\n",
       "      <td>0.081597</td>\n",
       "      <td>...</td>\n",
       "      <td>0</td>\n",
       "      <td>0</td>\n",
       "      <td>0</td>\n",
       "      <td>0</td>\n",
       "      <td>0</td>\n",
       "      <td>1</td>\n",
       "      <td>0</td>\n",
       "      <td>1</td>\n",
       "      <td>0</td>\n",
       "      <td>1</td>\n",
       "    </tr>\n",
       "    <tr>\n",
       "      <th>4</th>\n",
       "      <td>10783</td>\n",
       "      <td>0.296484</td>\n",
       "      <td>0.428542</td>\n",
       "      <td>0.333333</td>\n",
       "      <td>0.600000</td>\n",
       "      <td>0.102564</td>\n",
       "      <td>0.243902</td>\n",
       "      <td>0.003476</td>\n",
       "      <td>0.003129</td>\n",
       "      <td>0.060182</td>\n",
       "      <td>...</td>\n",
       "      <td>0</td>\n",
       "      <td>0</td>\n",
       "      <td>0</td>\n",
       "      <td>1</td>\n",
       "      <td>0</td>\n",
       "      <td>1</td>\n",
       "      <td>0</td>\n",
       "      <td>1</td>\n",
       "      <td>0</td>\n",
       "      <td>1</td>\n",
       "    </tr>\n",
       "  </tbody>\n",
       "</table>\n",
       "<p>5 rows × 225 columns</p>\n",
       "</div>"
      ],
      "text/plain": [
       "      Id  Social_2  Healthcare_1  Helthcare_2  HouseYear  HouseFloor  \\\n",
       "0  14038  0.412794           NaN     0.000000   0.536364    0.076923   \n",
       "1  15053  0.536135      0.049495     0.166667   0.618182    0.076923   \n",
       "2   4765  0.401322      0.047226     0.166667   0.527273    0.102564   \n",
       "3   5809  0.294317      0.223551     0.000000   0.609091    0.145299   \n",
       "4  10783  0.296484      0.428542     0.333333   0.600000    0.102564   \n",
       "\n",
       "      Floor  KitchenSquare  LifeSquare    Square  ...  DistrictId_96  \\\n",
       "0  0.146341       0.002979    0.003887  0.073203  ...              0   \n",
       "1  0.146341       0.003972    0.005305  0.100866  ...              0   \n",
       "2  0.170732       0.000000    0.003854  0.068463  ...              0   \n",
       "3  0.170732       0.004469    0.007000  0.081597  ...              0   \n",
       "4  0.243902       0.003476    0.003129  0.060182  ...              0   \n",
       "\n",
       "   DistrictId_97  DistrictId_98  DistrictId_99  Ecology_2_A  Ecology_2_B  \\\n",
       "0              0              0              0            0            1   \n",
       "1              0              0              0            0            1   \n",
       "2              0              0              0            0            1   \n",
       "3              0              0              0            0            1   \n",
       "4              0              0              1            0            1   \n",
       "\n",
       "   Ecology_3_A  Ecology_3_B  Shops_2_A  Shops_2_B  \n",
       "0            0            1          0          1  \n",
       "1            0            1          0          1  \n",
       "2            0            1          0          1  \n",
       "3            0            1          0          1  \n",
       "4            0            1          0          1  \n",
       "\n",
       "[5 rows x 225 columns]"
      ]
     },
     "execution_count": 8,
     "metadata": {},
     "output_type": "execute_result"
    }
   ],
   "source": [
    "from sklearn.preprocessing import MinMaxScaler\n",
    "scaler = MinMaxScaler()\n",
    "\n",
    "data['Social_2'] = scaler.fit_transform(data[['Social_2']].astype(np.float64))\n",
    "data['Healthcare_1'] = scaler.fit_transform(data[['Healthcare_1']].astype(np.float64))\n",
    "data['Helthcare_2'] = scaler.fit_transform(data[['Helthcare_2']].astype(np.float64))\n",
    "\n",
    "data['HouseYear'] = scaler.fit_transform(data[['HouseYear']].astype(np.float64))\n",
    "data['HouseFloor'] = scaler.fit_transform(data[['HouseFloor']].astype(np.float64))\n",
    "data['Floor'] = scaler.fit_transform(data[['Floor']].astype(np.float64))\n",
    "data['KitchenSquare'] = scaler.fit_transform(data[['KitchenSquare']].astype(np.float64))\n",
    "data['LifeSquare'] = scaler.fit_transform(data[['LifeSquare']].astype(np.float64))\n",
    "data['Square'] = scaler.fit_transform(data[['Square']].astype(np.float64))\n",
    "data['Rooms'] = scaler.fit_transform(data[['Rooms']].astype(np.float64))\n",
    "\n",
    "data.head()"
   ]
  },
  {
   "cell_type": "code",
   "execution_count": 9,
   "metadata": {},
   "outputs": [
    {
     "data": {
      "text/html": [
       "<div>\n",
       "<style scoped>\n",
       "    .dataframe tbody tr th:only-of-type {\n",
       "        vertical-align: middle;\n",
       "    }\n",
       "\n",
       "    .dataframe tbody tr th {\n",
       "        vertical-align: top;\n",
       "    }\n",
       "\n",
       "    .dataframe thead th {\n",
       "        text-align: right;\n",
       "    }\n",
       "</style>\n",
       "<table border=\"1\" class=\"dataframe\">\n",
       "  <thead>\n",
       "    <tr style=\"text-align: right;\">\n",
       "      <th></th>\n",
       "      <th>Id</th>\n",
       "      <th>Social_2</th>\n",
       "      <th>Healthcare_1</th>\n",
       "      <th>Helthcare_2</th>\n",
       "      <th>HouseYear</th>\n",
       "      <th>HouseFloor</th>\n",
       "      <th>Floor</th>\n",
       "      <th>KitchenSquare</th>\n",
       "      <th>LifeSquare</th>\n",
       "      <th>Square</th>\n",
       "      <th>Rooms</th>\n",
       "      <th>Shops_1</th>\n",
       "      <th>Ecology_1</th>\n",
       "      <th>Price</th>\n",
       "    </tr>\n",
       "  </thead>\n",
       "  <tbody>\n",
       "    <tr>\n",
       "      <th>1</th>\n",
       "      <td>15053</td>\n",
       "      <td>10309</td>\n",
       "      <td>240.0</td>\n",
       "      <td>1</td>\n",
       "      <td>1978.0</td>\n",
       "      <td>9.0</td>\n",
       "      <td>7</td>\n",
       "      <td>8.0</td>\n",
       "      <td>40.049543</td>\n",
       "      <td>65.683640</td>\n",
       "      <td>3.0</td>\n",
       "      <td>16</td>\n",
       "      <td>0.000070</td>\n",
       "      <td>300009.450063</td>\n",
       "    </tr>\n",
       "    <tr>\n",
       "      <th>2</th>\n",
       "      <td>4765</td>\n",
       "      <td>7759</td>\n",
       "      <td>229.0</td>\n",
       "      <td>1</td>\n",
       "      <td>1968.0</td>\n",
       "      <td>12.0</td>\n",
       "      <td>8</td>\n",
       "      <td>0.0</td>\n",
       "      <td>29.197612</td>\n",
       "      <td>44.947953</td>\n",
       "      <td>2.0</td>\n",
       "      <td>3</td>\n",
       "      <td>0.049637</td>\n",
       "      <td>220925.908524</td>\n",
       "    </tr>\n",
       "    <tr>\n",
       "      <th>3</th>\n",
       "      <td>5809</td>\n",
       "      <td>5735</td>\n",
       "      <td>1084.0</td>\n",
       "      <td>0</td>\n",
       "      <td>1977.0</td>\n",
       "      <td>17.0</td>\n",
       "      <td>8</td>\n",
       "      <td>9.0</td>\n",
       "      <td>52.731512</td>\n",
       "      <td>53.352981</td>\n",
       "      <td>2.0</td>\n",
       "      <td>5</td>\n",
       "      <td>0.437885</td>\n",
       "      <td>175616.227217</td>\n",
       "    </tr>\n",
       "    <tr>\n",
       "      <th>4</th>\n",
       "      <td>10783</td>\n",
       "      <td>5776</td>\n",
       "      <td>2078.0</td>\n",
       "      <td>2</td>\n",
       "      <td>1976.0</td>\n",
       "      <td>12.0</td>\n",
       "      <td>11</td>\n",
       "      <td>7.0</td>\n",
       "      <td>23.776169</td>\n",
       "      <td>39.649192</td>\n",
       "      <td>1.0</td>\n",
       "      <td>4</td>\n",
       "      <td>0.012339</td>\n",
       "      <td>150226.531644</td>\n",
       "    </tr>\n",
       "    <tr>\n",
       "      <th>5</th>\n",
       "      <td>12915</td>\n",
       "      <td>7715</td>\n",
       "      <td>990.0</td>\n",
       "      <td>0</td>\n",
       "      <td>2011.0</td>\n",
       "      <td>17.0</td>\n",
       "      <td>5</td>\n",
       "      <td>12.0</td>\n",
       "      <td>46.683720</td>\n",
       "      <td>80.384479</td>\n",
       "      <td>3.0</td>\n",
       "      <td>6</td>\n",
       "      <td>0.309479</td>\n",
       "      <td>215898.447742</td>\n",
       "    </tr>\n",
       "  </tbody>\n",
       "</table>\n",
       "</div>"
      ],
      "text/plain": [
       "      Id  Social_2  Healthcare_1  Helthcare_2  HouseYear  HouseFloor  Floor  \\\n",
       "1  15053     10309         240.0            1     1978.0         9.0      7   \n",
       "2   4765      7759         229.0            1     1968.0        12.0      8   \n",
       "3   5809      5735        1084.0            0     1977.0        17.0      8   \n",
       "4  10783      5776        2078.0            2     1976.0        12.0     11   \n",
       "5  12915      7715         990.0            0     2011.0        17.0      5   \n",
       "\n",
       "   KitchenSquare  LifeSquare     Square  Rooms  Shops_1  Ecology_1  \\\n",
       "1            8.0   40.049543  65.683640    3.0       16   0.000070   \n",
       "2            0.0   29.197612  44.947953    2.0        3   0.049637   \n",
       "3            9.0   52.731512  53.352981    2.0        5   0.437885   \n",
       "4            7.0   23.776169  39.649192    1.0        4   0.012339   \n",
       "5           12.0   46.683720  80.384479    3.0        6   0.309479   \n",
       "\n",
       "           Price  \n",
       "1  300009.450063  \n",
       "2  220925.908524  \n",
       "3  175616.227217  \n",
       "4  150226.531644  \n",
       "5  215898.447742  "
      ]
     },
     "execution_count": 9,
     "metadata": {},
     "output_type": "execute_result"
    }
   ],
   "source": [
    "X_health = numeric_subset.loc[data['Healthcare_1'].notna()]\n",
    "X_health.head()\n"
   ]
  },
  {
   "cell_type": "code",
   "execution_count": 10,
   "metadata": {},
   "outputs": [
    {
     "data": {
      "text/html": [
       "<div>\n",
       "<style scoped>\n",
       "    .dataframe tbody tr th:only-of-type {\n",
       "        vertical-align: middle;\n",
       "    }\n",
       "\n",
       "    .dataframe tbody tr th {\n",
       "        vertical-align: top;\n",
       "    }\n",
       "\n",
       "    .dataframe thead th {\n",
       "        text-align: right;\n",
       "    }\n",
       "</style>\n",
       "<table border=\"1\" class=\"dataframe\">\n",
       "  <thead>\n",
       "    <tr style=\"text-align: right;\">\n",
       "      <th></th>\n",
       "      <th>Id</th>\n",
       "      <th>Social_2</th>\n",
       "      <th>Healthcare_1</th>\n",
       "      <th>Helthcare_2</th>\n",
       "      <th>HouseYear</th>\n",
       "      <th>HouseFloor</th>\n",
       "      <th>Floor</th>\n",
       "      <th>KitchenSquare</th>\n",
       "      <th>LifeSquare</th>\n",
       "      <th>Square</th>\n",
       "      <th>Rooms</th>\n",
       "      <th>Shops_1</th>\n",
       "      <th>Ecology_1</th>\n",
       "      <th>Price</th>\n",
       "    </tr>\n",
       "  </thead>\n",
       "  <tbody>\n",
       "    <tr>\n",
       "      <th>0</th>\n",
       "      <td>14038</td>\n",
       "      <td>7976</td>\n",
       "      <td>NaN</td>\n",
       "      <td>0</td>\n",
       "      <td>1969.0</td>\n",
       "      <td>9.0</td>\n",
       "      <td>7</td>\n",
       "      <td>6.0</td>\n",
       "      <td>29.442751</td>\n",
       "      <td>47.981561</td>\n",
       "      <td>2.0</td>\n",
       "      <td>11</td>\n",
       "      <td>0.089040</td>\n",
       "      <td>184966.930730</td>\n",
       "    </tr>\n",
       "    <tr>\n",
       "      <th>6</th>\n",
       "      <td>14549</td>\n",
       "      <td>4386</td>\n",
       "      <td>NaN</td>\n",
       "      <td>1</td>\n",
       "      <td>1960.0</td>\n",
       "      <td>5.0</td>\n",
       "      <td>3</td>\n",
       "      <td>7.0</td>\n",
       "      <td>37.160377</td>\n",
       "      <td>62.254114</td>\n",
       "      <td>2.0</td>\n",
       "      <td>5</td>\n",
       "      <td>0.460556</td>\n",
       "      <td>296021.204377</td>\n",
       "    </tr>\n",
       "    <tr>\n",
       "      <th>7</th>\n",
       "      <td>11993</td>\n",
       "      <td>1437</td>\n",
       "      <td>NaN</td>\n",
       "      <td>0</td>\n",
       "      <td>1977.0</td>\n",
       "      <td>0.0</td>\n",
       "      <td>14</td>\n",
       "      <td>0.0</td>\n",
       "      <td>NaN</td>\n",
       "      <td>80.312926</td>\n",
       "      <td>2.0</td>\n",
       "      <td>2</td>\n",
       "      <td>0.075779</td>\n",
       "      <td>221244.156664</td>\n",
       "    </tr>\n",
       "    <tr>\n",
       "      <th>8</th>\n",
       "      <td>5172</td>\n",
       "      <td>264</td>\n",
       "      <td>NaN</td>\n",
       "      <td>0</td>\n",
       "      <td>1977.0</td>\n",
       "      <td>17.0</td>\n",
       "      <td>9</td>\n",
       "      <td>1.0</td>\n",
       "      <td>NaN</td>\n",
       "      <td>64.511437</td>\n",
       "      <td>2.0</td>\n",
       "      <td>1</td>\n",
       "      <td>0.007122</td>\n",
       "      <td>229102.795999</td>\n",
       "    </tr>\n",
       "    <tr>\n",
       "      <th>9</th>\n",
       "      <td>8649</td>\n",
       "      <td>1437</td>\n",
       "      <td>NaN</td>\n",
       "      <td>0</td>\n",
       "      <td>2014.0</td>\n",
       "      <td>17.0</td>\n",
       "      <td>13</td>\n",
       "      <td>8.0</td>\n",
       "      <td>18.915552</td>\n",
       "      <td>46.461409</td>\n",
       "      <td>1.0</td>\n",
       "      <td>2</td>\n",
       "      <td>0.075779</td>\n",
       "      <td>95380.220993</td>\n",
       "    </tr>\n",
       "  </tbody>\n",
       "</table>\n",
       "</div>"
      ],
      "text/plain": [
       "      Id  Social_2  Healthcare_1  Helthcare_2  HouseYear  HouseFloor  Floor  \\\n",
       "0  14038      7976           NaN            0     1969.0         9.0      7   \n",
       "6  14549      4386           NaN            1     1960.0         5.0      3   \n",
       "7  11993      1437           NaN            0     1977.0         0.0     14   \n",
       "8   5172       264           NaN            0     1977.0        17.0      9   \n",
       "9   8649      1437           NaN            0     2014.0        17.0     13   \n",
       "\n",
       "   KitchenSquare  LifeSquare     Square  Rooms  Shops_1  Ecology_1  \\\n",
       "0            6.0   29.442751  47.981561    2.0       11   0.089040   \n",
       "6            7.0   37.160377  62.254114    2.0        5   0.460556   \n",
       "7            0.0         NaN  80.312926    2.0        2   0.075779   \n",
       "8            1.0         NaN  64.511437    2.0        1   0.007122   \n",
       "9            8.0   18.915552  46.461409    1.0        2   0.075779   \n",
       "\n",
       "           Price  \n",
       "0  184966.930730  \n",
       "6  296021.204377  \n",
       "7  221244.156664  \n",
       "8  229102.795999  \n",
       "9   95380.220993  "
      ]
     },
     "execution_count": 10,
     "metadata": {},
     "output_type": "execute_result"
    }
   ],
   "source": [
    "X_health1_NaN = numeric_subset.loc[data['Healthcare_1'].isna()]\n",
    "X_health1_NaN.head()\n"
   ]
  },
  {
   "cell_type": "code",
   "execution_count": null,
   "metadata": {},
   "outputs": [],
   "source": [
    "\n",
    "\n"
   ]
  },
  {
   "cell_type": "code",
   "execution_count": 11,
   "metadata": {},
   "outputs": [
    {
     "name": "stdout",
     "output_type": "stream",
     "text": [
      "<class 'pandas.core.frame.DataFrame'>\n",
      "Int64Index: 5202 entries, 1 to 9999\n",
      "Data columns (total 14 columns):\n",
      "Id               5202 non-null int64\n",
      "Social_2         5202 non-null int64\n",
      "Healthcare_1     5202 non-null float64\n",
      "Helthcare_2      5202 non-null int64\n",
      "HouseYear        5202 non-null float64\n",
      "HouseFloor       5202 non-null float64\n",
      "Floor            5202 non-null int64\n",
      "KitchenSquare    5202 non-null float64\n",
      "LifeSquare       4457 non-null float64\n",
      "Square           5202 non-null float64\n",
      "Rooms            5202 non-null float64\n",
      "Shops_1          5202 non-null int64\n",
      "Ecology_1        5202 non-null float64\n",
      "Price            5202 non-null float64\n",
      "dtypes: float64(9), int64(5)\n",
      "memory usage: 609.6 KB\n"
     ]
    }
   ],
   "source": [
    "X_health.info()"
   ]
  },
  {
   "cell_type": "code",
   "execution_count": 12,
   "metadata": {},
   "outputs": [
    {
     "data": {
      "text/plain": [
       "count    5202.000000\n",
       "mean     1982.275087\n",
       "std        18.686061\n",
       "min      1912.000000\n",
       "25%      1969.000000\n",
       "50%      1977.000000\n",
       "75%      1996.000000\n",
       "max      2020.000000\n",
       "Name: HouseYear, dtype: float64"
      ]
     },
     "execution_count": 12,
     "metadata": {},
     "output_type": "execute_result"
    }
   ],
   "source": [
    "X_health[\"HouseYear\"].describe()"
   ]
  },
  {
   "cell_type": "code",
   "execution_count": 13,
   "metadata": {},
   "outputs": [
    {
     "data": {
      "text/plain": [
       "2020.0"
      ]
     },
     "execution_count": 13,
     "metadata": {},
     "output_type": "execute_result"
    }
   ],
   "source": [
    "X_health[\"HouseYear\"].max()"
   ]
  },
  {
   "cell_type": "code",
   "execution_count": 14,
   "metadata": {},
   "outputs": [
    {
     "data": {
      "text/html": [
       "<div>\n",
       "<style scoped>\n",
       "    .dataframe tbody tr th:only-of-type {\n",
       "        vertical-align: middle;\n",
       "    }\n",
       "\n",
       "    .dataframe tbody tr th {\n",
       "        vertical-align: top;\n",
       "    }\n",
       "\n",
       "    .dataframe thead th {\n",
       "        text-align: right;\n",
       "    }\n",
       "</style>\n",
       "<table border=\"1\" class=\"dataframe\">\n",
       "  <thead>\n",
       "    <tr style=\"text-align: right;\">\n",
       "      <th></th>\n",
       "      <th>Id</th>\n",
       "      <th>Social_2</th>\n",
       "      <th>Healthcare_1</th>\n",
       "      <th>Helthcare_2</th>\n",
       "      <th>HouseYear</th>\n",
       "      <th>HouseFloor</th>\n",
       "      <th>Shops_1</th>\n",
       "      <th>Ecology_1</th>\n",
       "      <th>Price</th>\n",
       "    </tr>\n",
       "  </thead>\n",
       "  <tbody>\n",
       "    <tr>\n",
       "      <th>1</th>\n",
       "      <td>15053</td>\n",
       "      <td>10309</td>\n",
       "      <td>240.0</td>\n",
       "      <td>1</td>\n",
       "      <td>1978.0</td>\n",
       "      <td>9.0</td>\n",
       "      <td>16</td>\n",
       "      <td>0.000070</td>\n",
       "      <td>300009.450063</td>\n",
       "    </tr>\n",
       "    <tr>\n",
       "      <th>2</th>\n",
       "      <td>4765</td>\n",
       "      <td>7759</td>\n",
       "      <td>229.0</td>\n",
       "      <td>1</td>\n",
       "      <td>1968.0</td>\n",
       "      <td>12.0</td>\n",
       "      <td>3</td>\n",
       "      <td>0.049637</td>\n",
       "      <td>220925.908524</td>\n",
       "    </tr>\n",
       "    <tr>\n",
       "      <th>3</th>\n",
       "      <td>5809</td>\n",
       "      <td>5735</td>\n",
       "      <td>1084.0</td>\n",
       "      <td>0</td>\n",
       "      <td>1977.0</td>\n",
       "      <td>17.0</td>\n",
       "      <td>5</td>\n",
       "      <td>0.437885</td>\n",
       "      <td>175616.227217</td>\n",
       "    </tr>\n",
       "    <tr>\n",
       "      <th>4</th>\n",
       "      <td>10783</td>\n",
       "      <td>5776</td>\n",
       "      <td>2078.0</td>\n",
       "      <td>2</td>\n",
       "      <td>1976.0</td>\n",
       "      <td>12.0</td>\n",
       "      <td>4</td>\n",
       "      <td>0.012339</td>\n",
       "      <td>150226.531644</td>\n",
       "    </tr>\n",
       "    <tr>\n",
       "      <th>5</th>\n",
       "      <td>12915</td>\n",
       "      <td>7715</td>\n",
       "      <td>990.0</td>\n",
       "      <td>0</td>\n",
       "      <td>2011.0</td>\n",
       "      <td>17.0</td>\n",
       "      <td>6</td>\n",
       "      <td>0.309479</td>\n",
       "      <td>215898.447742</td>\n",
       "    </tr>\n",
       "  </tbody>\n",
       "</table>\n",
       "</div>"
      ],
      "text/plain": [
       "      Id  Social_2  Healthcare_1  Helthcare_2  HouseYear  HouseFloor  Shops_1  \\\n",
       "1  15053     10309         240.0            1     1978.0         9.0       16   \n",
       "2   4765      7759         229.0            1     1968.0        12.0        3   \n",
       "3   5809      5735        1084.0            0     1977.0        17.0        5   \n",
       "4  10783      5776        2078.0            2     1976.0        12.0        4   \n",
       "5  12915      7715         990.0            0     2011.0        17.0        6   \n",
       "\n",
       "   Ecology_1          Price  \n",
       "1   0.000070  300009.450063  \n",
       "2   0.049637  220925.908524  \n",
       "3   0.437885  175616.227217  \n",
       "4   0.012339  150226.531644  \n",
       "5   0.309479  215898.447742  "
      ]
     },
     "execution_count": 14,
     "metadata": {},
     "output_type": "execute_result"
    }
   ],
   "source": [
    "\n",
    "X_health1 = X_health.drop([\"Rooms\", \"Square\", \"LifeSquare\", \"KitchenSquare\", \"Floor\"], axis=1)\n",
    "X_health1.head()"
   ]
  },
  {
   "cell_type": "code",
   "execution_count": 15,
   "metadata": {},
   "outputs": [
    {
     "data": {
      "text/plain": [
       "array([1, 0, 2, 3, 5, 6, 4], dtype=int64)"
      ]
     },
     "execution_count": 15,
     "metadata": {},
     "output_type": "execute_result"
    }
   ],
   "source": [
    "X_health1['Helthcare_2'].unique()"
   ]
  },
  {
   "cell_type": "code",
   "execution_count": null,
   "metadata": {},
   "outputs": [],
   "source": []
  },
  {
   "cell_type": "code",
   "execution_count": 16,
   "metadata": {},
   "outputs": [
    {
     "data": {
      "text/html": [
       "<div>\n",
       "<style scoped>\n",
       "    .dataframe tbody tr th:only-of-type {\n",
       "        vertical-align: middle;\n",
       "    }\n",
       "\n",
       "    .dataframe tbody tr th {\n",
       "        vertical-align: top;\n",
       "    }\n",
       "\n",
       "    .dataframe thead th {\n",
       "        text-align: right;\n",
       "    }\n",
       "</style>\n",
       "<table border=\"1\" class=\"dataframe\">\n",
       "  <thead>\n",
       "    <tr style=\"text-align: right;\">\n",
       "      <th></th>\n",
       "      <th>Healthcare_1</th>\n",
       "    </tr>\n",
       "  </thead>\n",
       "  <tbody>\n",
       "    <tr>\n",
       "      <th>count</th>\n",
       "      <td>5202.000000</td>\n",
       "    </tr>\n",
       "    <tr>\n",
       "      <th>mean</th>\n",
       "      <td>1142.904460</td>\n",
       "    </tr>\n",
       "    <tr>\n",
       "      <th>std</th>\n",
       "      <td>1021.517264</td>\n",
       "    </tr>\n",
       "    <tr>\n",
       "      <th>min</th>\n",
       "      <td>0.000000</td>\n",
       "    </tr>\n",
       "    <tr>\n",
       "      <th>25%</th>\n",
       "      <td>350.000000</td>\n",
       "    </tr>\n",
       "    <tr>\n",
       "      <th>50%</th>\n",
       "      <td>900.000000</td>\n",
       "    </tr>\n",
       "    <tr>\n",
       "      <th>75%</th>\n",
       "      <td>1548.000000</td>\n",
       "    </tr>\n",
       "    <tr>\n",
       "      <th>max</th>\n",
       "      <td>4849.000000</td>\n",
       "    </tr>\n",
       "  </tbody>\n",
       "</table>\n",
       "</div>"
      ],
      "text/plain": [
       "       Healthcare_1\n",
       "count   5202.000000\n",
       "mean    1142.904460\n",
       "std     1021.517264\n",
       "min        0.000000\n",
       "25%      350.000000\n",
       "50%      900.000000\n",
       "75%     1548.000000\n",
       "max     4849.000000"
      ]
     },
     "execution_count": 16,
     "metadata": {},
     "output_type": "execute_result"
    }
   ],
   "source": [
    "yh = pd.DataFrame(X_health1['Healthcare_1'], columns=['Healthcare_1'])\n",
    "\n",
    "yh.describe()"
   ]
  },
  {
   "cell_type": "code",
   "execution_count": 17,
   "metadata": {},
   "outputs": [],
   "source": [
    "X_health1 = X_health1.drop([\"Healthcare_1\"], axis=1)\n"
   ]
  },
  {
   "cell_type": "code",
   "execution_count": 18,
   "metadata": {},
   "outputs": [
    {
     "data": {
      "text/html": [
       "<div>\n",
       "<style scoped>\n",
       "    .dataframe tbody tr th:only-of-type {\n",
       "        vertical-align: middle;\n",
       "    }\n",
       "\n",
       "    .dataframe tbody tr th {\n",
       "        vertical-align: top;\n",
       "    }\n",
       "\n",
       "    .dataframe thead th {\n",
       "        text-align: right;\n",
       "    }\n",
       "</style>\n",
       "<table border=\"1\" class=\"dataframe\">\n",
       "  <thead>\n",
       "    <tr style=\"text-align: right;\">\n",
       "      <th></th>\n",
       "      <th>Id</th>\n",
       "      <th>Social_2</th>\n",
       "      <th>Helthcare_2</th>\n",
       "      <th>HouseYear</th>\n",
       "      <th>HouseFloor</th>\n",
       "      <th>Shops_1</th>\n",
       "      <th>Ecology_1</th>\n",
       "      <th>Price</th>\n",
       "    </tr>\n",
       "  </thead>\n",
       "  <tbody>\n",
       "    <tr>\n",
       "      <th>1</th>\n",
       "      <td>15053</td>\n",
       "      <td>10309</td>\n",
       "      <td>1</td>\n",
       "      <td>1978.0</td>\n",
       "      <td>9.0</td>\n",
       "      <td>16</td>\n",
       "      <td>0.000070</td>\n",
       "      <td>300009.450063</td>\n",
       "    </tr>\n",
       "    <tr>\n",
       "      <th>2</th>\n",
       "      <td>4765</td>\n",
       "      <td>7759</td>\n",
       "      <td>1</td>\n",
       "      <td>1968.0</td>\n",
       "      <td>12.0</td>\n",
       "      <td>3</td>\n",
       "      <td>0.049637</td>\n",
       "      <td>220925.908524</td>\n",
       "    </tr>\n",
       "    <tr>\n",
       "      <th>3</th>\n",
       "      <td>5809</td>\n",
       "      <td>5735</td>\n",
       "      <td>0</td>\n",
       "      <td>1977.0</td>\n",
       "      <td>17.0</td>\n",
       "      <td>5</td>\n",
       "      <td>0.437885</td>\n",
       "      <td>175616.227217</td>\n",
       "    </tr>\n",
       "    <tr>\n",
       "      <th>4</th>\n",
       "      <td>10783</td>\n",
       "      <td>5776</td>\n",
       "      <td>2</td>\n",
       "      <td>1976.0</td>\n",
       "      <td>12.0</td>\n",
       "      <td>4</td>\n",
       "      <td>0.012339</td>\n",
       "      <td>150226.531644</td>\n",
       "    </tr>\n",
       "    <tr>\n",
       "      <th>5</th>\n",
       "      <td>12915</td>\n",
       "      <td>7715</td>\n",
       "      <td>0</td>\n",
       "      <td>2011.0</td>\n",
       "      <td>17.0</td>\n",
       "      <td>6</td>\n",
       "      <td>0.309479</td>\n",
       "      <td>215898.447742</td>\n",
       "    </tr>\n",
       "  </tbody>\n",
       "</table>\n",
       "</div>"
      ],
      "text/plain": [
       "      Id  Social_2  Helthcare_2  HouseYear  HouseFloor  Shops_1  Ecology_1  \\\n",
       "1  15053     10309            1     1978.0         9.0       16   0.000070   \n",
       "2   4765      7759            1     1968.0        12.0        3   0.049637   \n",
       "3   5809      5735            0     1977.0        17.0        5   0.437885   \n",
       "4  10783      5776            2     1976.0        12.0        4   0.012339   \n",
       "5  12915      7715            0     2011.0        17.0        6   0.309479   \n",
       "\n",
       "           Price  \n",
       "1  300009.450063  \n",
       "2  220925.908524  \n",
       "3  175616.227217  \n",
       "4  150226.531644  \n",
       "5  215898.447742  "
      ]
     },
     "execution_count": 18,
     "metadata": {},
     "output_type": "execute_result"
    }
   ],
   "source": [
    "X_health1.head()"
   ]
  },
  {
   "cell_type": "code",
   "execution_count": 19,
   "metadata": {},
   "outputs": [],
   "source": [
    "\n",
    "Xh_train, Xh_test, yh_train, yh_test = train_test_split(X_health1, yh, test_size=0.3, random_state=42)"
   ]
  },
  {
   "cell_type": "code",
   "execution_count": 20,
   "metadata": {},
   "outputs": [
    {
     "data": {
      "text/plain": [
       "LinearRegression(copy_X=True, fit_intercept=True, n_jobs=None,\n",
       "         normalize=False)"
      ]
     },
     "execution_count": 20,
     "metadata": {},
     "output_type": "execute_result"
    }
   ],
   "source": [
    "from sklearn.linear_model import LinearRegression \n",
    "lr = LinearRegression()\n",
    "lr.fit(Xh_train, yh_train)"
   ]
  },
  {
   "cell_type": "code",
   "execution_count": 21,
   "metadata": {},
   "outputs": [
    {
     "data": {
      "text/plain": [
       "array([[ 5.41213888e-04, -4.40784070e-03,  1.12943626e+02,\n",
       "        -9.93000239e+00, -4.83621426e+00,  2.96980625e+00,\n",
       "         1.63554378e+02,  1.32311791e-03]])"
      ]
     },
     "execution_count": 21,
     "metadata": {},
     "output_type": "execute_result"
    }
   ],
   "source": [
    "lr.coef_\n"
   ]
  },
  {
   "cell_type": "code",
   "execution_count": 22,
   "metadata": {},
   "outputs": [
    {
     "data": {
      "text/plain": [
       "array([20356.46882909])"
      ]
     },
     "execution_count": 22,
     "metadata": {},
     "output_type": "execute_result"
    }
   ],
   "source": [
    "lr.intercept_"
   ]
  },
  {
   "cell_type": "code",
   "execution_count": 23,
   "metadata": {},
   "outputs": [
    {
     "data": {
      "text/plain": [
       "(1561, 1)"
      ]
     },
     "execution_count": 23,
     "metadata": {},
     "output_type": "execute_result"
    }
   ],
   "source": [
    "yh_pred = lr.predict(Xh_test)\n",
    "yh_pred.shape"
   ]
  },
  {
   "cell_type": "code",
   "execution_count": 24,
   "metadata": {},
   "outputs": [
    {
     "data": {
      "text/plain": [
       "0.09695332744928464"
      ]
     },
     "execution_count": 24,
     "metadata": {},
     "output_type": "execute_result"
    }
   ],
   "source": [
    "initial_r2s = r2_score(yh_test, yh_pred)\n",
    "initial_r2s"
   ]
  },
  {
   "cell_type": "code",
   "execution_count": 25,
   "metadata": {},
   "outputs": [],
   "source": [
    "X_health1_NaN_1 = X_health1_NaN.drop([\"Healthcare_1\", \"Rooms\", \"Square\", \"LifeSquare\", \"KitchenSquare\", \"Floor\"], axis=1)\n"
   ]
  },
  {
   "cell_type": "code",
   "execution_count": 26,
   "metadata": {},
   "outputs": [
    {
     "name": "stdout",
     "output_type": "stream",
     "text": [
      "<class 'pandas.core.frame.DataFrame'>\n",
      "Int64Index: 4798 entries, 0 to 9997\n",
      "Data columns (total 8 columns):\n",
      "Id             4798 non-null int64\n",
      "Social_2       4798 non-null int64\n",
      "Helthcare_2    4798 non-null int64\n",
      "HouseYear      4798 non-null float64\n",
      "HouseFloor     4798 non-null float64\n",
      "Shops_1        4798 non-null int64\n",
      "Ecology_1      4798 non-null float64\n",
      "Price          4798 non-null float64\n",
      "dtypes: float64(4), int64(4)\n",
      "memory usage: 337.4 KB\n"
     ]
    }
   ],
   "source": [
    "X_health1_NaN_1.info()"
   ]
  },
  {
   "cell_type": "code",
   "execution_count": 27,
   "metadata": {},
   "outputs": [
    {
     "data": {
      "text/html": [
       "<div>\n",
       "<style scoped>\n",
       "    .dataframe tbody tr th:only-of-type {\n",
       "        vertical-align: middle;\n",
       "    }\n",
       "\n",
       "    .dataframe tbody tr th {\n",
       "        vertical-align: top;\n",
       "    }\n",
       "\n",
       "    .dataframe thead th {\n",
       "        text-align: right;\n",
       "    }\n",
       "</style>\n",
       "<table border=\"1\" class=\"dataframe\">\n",
       "  <thead>\n",
       "    <tr style=\"text-align: right;\">\n",
       "      <th></th>\n",
       "      <th>Id</th>\n",
       "      <th>Social_2</th>\n",
       "      <th>Helthcare_2</th>\n",
       "      <th>HouseYear</th>\n",
       "      <th>HouseFloor</th>\n",
       "      <th>Shops_1</th>\n",
       "      <th>Ecology_1</th>\n",
       "      <th>Price</th>\n",
       "    </tr>\n",
       "  </thead>\n",
       "  <tbody>\n",
       "    <tr>\n",
       "      <th>0</th>\n",
       "      <td>14038</td>\n",
       "      <td>0.412794</td>\n",
       "      <td>0</td>\n",
       "      <td>1969.0</td>\n",
       "      <td>9.0</td>\n",
       "      <td>11</td>\n",
       "      <td>0.089040</td>\n",
       "      <td>184966.930730</td>\n",
       "    </tr>\n",
       "    <tr>\n",
       "      <th>6</th>\n",
       "      <td>14549</td>\n",
       "      <td>0.222998</td>\n",
       "      <td>1</td>\n",
       "      <td>1960.0</td>\n",
       "      <td>5.0</td>\n",
       "      <td>5</td>\n",
       "      <td>0.460556</td>\n",
       "      <td>296021.204377</td>\n",
       "    </tr>\n",
       "    <tr>\n",
       "      <th>7</th>\n",
       "      <td>11993</td>\n",
       "      <td>0.067090</td>\n",
       "      <td>0</td>\n",
       "      <td>1977.0</td>\n",
       "      <td>0.0</td>\n",
       "      <td>2</td>\n",
       "      <td>0.075779</td>\n",
       "      <td>221244.156664</td>\n",
       "    </tr>\n",
       "    <tr>\n",
       "      <th>8</th>\n",
       "      <td>5172</td>\n",
       "      <td>0.005075</td>\n",
       "      <td>0</td>\n",
       "      <td>1977.0</td>\n",
       "      <td>17.0</td>\n",
       "      <td>1</td>\n",
       "      <td>0.007122</td>\n",
       "      <td>229102.795999</td>\n",
       "    </tr>\n",
       "    <tr>\n",
       "      <th>9</th>\n",
       "      <td>8649</td>\n",
       "      <td>0.067090</td>\n",
       "      <td>0</td>\n",
       "      <td>2014.0</td>\n",
       "      <td>17.0</td>\n",
       "      <td>2</td>\n",
       "      <td>0.075779</td>\n",
       "      <td>95380.220993</td>\n",
       "    </tr>\n",
       "  </tbody>\n",
       "</table>\n",
       "</div>"
      ],
      "text/plain": [
       "      Id  Social_2  Helthcare_2  HouseYear  HouseFloor  Shops_1  Ecology_1  \\\n",
       "0  14038  0.412794            0     1969.0         9.0       11   0.089040   \n",
       "6  14549  0.222998            1     1960.0         5.0        5   0.460556   \n",
       "7  11993  0.067090            0     1977.0         0.0        2   0.075779   \n",
       "8   5172  0.005075            0     1977.0        17.0        1   0.007122   \n",
       "9   8649  0.067090            0     2014.0        17.0        2   0.075779   \n",
       "\n",
       "           Price  \n",
       "0  184966.930730  \n",
       "6  296021.204377  \n",
       "7  221244.156664  \n",
       "8  229102.795999  \n",
       "9   95380.220993  "
      ]
     },
     "execution_count": 27,
     "metadata": {},
     "output_type": "execute_result"
    }
   ],
   "source": [
    "X_health1_NaN_1['Social_2'] = scaler.fit_transform(X_health1_NaN_1[['Social_2']].astype(np.float64))\n",
    "\n",
    "X_health1_NaN_1.head()"
   ]
  },
  {
   "cell_type": "code",
   "execution_count": 28,
   "metadata": {},
   "outputs": [
    {
     "data": {
      "text/plain": [
       "(4798, 1)"
      ]
     },
     "execution_count": 28,
     "metadata": {},
     "output_type": "execute_result"
    }
   ],
   "source": [
    "\n",
    "yh_pred_NaN = lr.predict(X_health1_NaN_1)\n",
    "\n",
    "yh_pred_NaN.shape\n"
   ]
  },
  {
   "cell_type": "code",
   "execution_count": 29,
   "metadata": {},
   "outputs": [
    {
     "data": {
      "text/plain": [
       "0    14038\n",
       "6    14549\n",
       "7    11993\n",
       "8     5172\n",
       "9     8649\n",
       "Name: Id, dtype: int64"
      ]
     },
     "execution_count": 29,
     "metadata": {},
     "output_type": "execute_result"
    }
   ],
   "source": [
    "X_health1_NaN_1['Id'].head()"
   ]
  },
  {
   "cell_type": "code",
   "execution_count": 30,
   "metadata": {},
   "outputs": [
    {
     "data": {
      "text/html": [
       "<div>\n",
       "<style scoped>\n",
       "    .dataframe tbody tr th:only-of-type {\n",
       "        vertical-align: middle;\n",
       "    }\n",
       "\n",
       "    .dataframe tbody tr th {\n",
       "        vertical-align: top;\n",
       "    }\n",
       "\n",
       "    .dataframe thead th {\n",
       "        text-align: right;\n",
       "    }\n",
       "</style>\n",
       "<table border=\"1\" class=\"dataframe\">\n",
       "  <thead>\n",
       "    <tr style=\"text-align: right;\">\n",
       "      <th></th>\n",
       "      <th>Id</th>\n",
       "      <th>Healthcare_1</th>\n",
       "      <th>Social_2</th>\n",
       "      <th>Helthcare_2</th>\n",
       "      <th>HouseYear</th>\n",
       "      <th>HouseFloor</th>\n",
       "      <th>Floor</th>\n",
       "      <th>KitchenSquare</th>\n",
       "      <th>LifeSquare</th>\n",
       "      <th>Square</th>\n",
       "      <th>...</th>\n",
       "      <th>DistrictId_96</th>\n",
       "      <th>DistrictId_97</th>\n",
       "      <th>DistrictId_98</th>\n",
       "      <th>DistrictId_99</th>\n",
       "      <th>Ecology_2_A</th>\n",
       "      <th>Ecology_2_B</th>\n",
       "      <th>Ecology_3_A</th>\n",
       "      <th>Ecology_3_B</th>\n",
       "      <th>Shops_2_A</th>\n",
       "      <th>Shops_2_B</th>\n",
       "    </tr>\n",
       "  </thead>\n",
       "  <tbody>\n",
       "    <tr>\n",
       "      <th>0</th>\n",
       "      <td>14038</td>\n",
       "      <td>0.352042</td>\n",
       "      <td>0.412794</td>\n",
       "      <td>0.000000</td>\n",
       "      <td>0.536364</td>\n",
       "      <td>0.076923</td>\n",
       "      <td>0.146341</td>\n",
       "      <td>0.002979</td>\n",
       "      <td>0.003887</td>\n",
       "      <td>0.073203</td>\n",
       "      <td>...</td>\n",
       "      <td>0</td>\n",
       "      <td>0</td>\n",
       "      <td>0</td>\n",
       "      <td>0</td>\n",
       "      <td>0</td>\n",
       "      <td>1</td>\n",
       "      <td>0</td>\n",
       "      <td>1</td>\n",
       "      <td>0</td>\n",
       "      <td>1</td>\n",
       "    </tr>\n",
       "    <tr>\n",
       "      <th>6</th>\n",
       "      <td>14549</td>\n",
       "      <td>0.549692</td>\n",
       "      <td>0.222998</td>\n",
       "      <td>0.166667</td>\n",
       "      <td>0.454545</td>\n",
       "      <td>0.042735</td>\n",
       "      <td>0.048780</td>\n",
       "      <td>0.003476</td>\n",
       "      <td>0.004918</td>\n",
       "      <td>0.095506</td>\n",
       "      <td>...</td>\n",
       "      <td>0</td>\n",
       "      <td>0</td>\n",
       "      <td>0</td>\n",
       "      <td>0</td>\n",
       "      <td>0</td>\n",
       "      <td>1</td>\n",
       "      <td>0</td>\n",
       "      <td>1</td>\n",
       "      <td>0</td>\n",
       "      <td>1</td>\n",
       "    </tr>\n",
       "    <tr>\n",
       "      <th>7</th>\n",
       "      <td>11993</td>\n",
       "      <td>0.343442</td>\n",
       "      <td>0.067090</td>\n",
       "      <td>0.000000</td>\n",
       "      <td>0.609091</td>\n",
       "      <td>0.000000</td>\n",
       "      <td>0.317073</td>\n",
       "      <td>0.000000</td>\n",
       "      <td>NaN</td>\n",
       "      <td>0.123726</td>\n",
       "      <td>...</td>\n",
       "      <td>0</td>\n",
       "      <td>0</td>\n",
       "      <td>0</td>\n",
       "      <td>0</td>\n",
       "      <td>0</td>\n",
       "      <td>1</td>\n",
       "      <td>0</td>\n",
       "      <td>1</td>\n",
       "      <td>0</td>\n",
       "      <td>1</td>\n",
       "    </tr>\n",
       "    <tr>\n",
       "      <th>8</th>\n",
       "      <td>5172</td>\n",
       "      <td>0.300387</td>\n",
       "      <td>0.005075</td>\n",
       "      <td>0.000000</td>\n",
       "      <td>0.609091</td>\n",
       "      <td>0.145299</td>\n",
       "      <td>0.195122</td>\n",
       "      <td>0.000497</td>\n",
       "      <td>NaN</td>\n",
       "      <td>0.099034</td>\n",
       "      <td>...</td>\n",
       "      <td>0</td>\n",
       "      <td>0</td>\n",
       "      <td>0</td>\n",
       "      <td>0</td>\n",
       "      <td>0</td>\n",
       "      <td>1</td>\n",
       "      <td>0</td>\n",
       "      <td>1</td>\n",
       "      <td>0</td>\n",
       "      <td>1</td>\n",
       "    </tr>\n",
       "    <tr>\n",
       "      <th>9</th>\n",
       "      <td>8649</td>\n",
       "      <td>0.046851</td>\n",
       "      <td>0.067090</td>\n",
       "      <td>0.000000</td>\n",
       "      <td>0.945455</td>\n",
       "      <td>0.145299</td>\n",
       "      <td>0.292683</td>\n",
       "      <td>0.003972</td>\n",
       "      <td>0.002479</td>\n",
       "      <td>0.070828</td>\n",
       "      <td>...</td>\n",
       "      <td>0</td>\n",
       "      <td>0</td>\n",
       "      <td>0</td>\n",
       "      <td>0</td>\n",
       "      <td>0</td>\n",
       "      <td>1</td>\n",
       "      <td>0</td>\n",
       "      <td>1</td>\n",
       "      <td>0</td>\n",
       "      <td>1</td>\n",
       "    </tr>\n",
       "  </tbody>\n",
       "</table>\n",
       "<p>5 rows × 225 columns</p>\n",
       "</div>"
      ],
      "text/plain": [
       "      Id  Healthcare_1  Social_2  Helthcare_2  HouseYear  HouseFloor  \\\n",
       "0  14038      0.352042  0.412794     0.000000   0.536364    0.076923   \n",
       "6  14549      0.549692  0.222998     0.166667   0.454545    0.042735   \n",
       "7  11993      0.343442  0.067090     0.000000   0.609091    0.000000   \n",
       "8   5172      0.300387  0.005075     0.000000   0.609091    0.145299   \n",
       "9   8649      0.046851  0.067090     0.000000   0.945455    0.145299   \n",
       "\n",
       "      Floor  KitchenSquare  LifeSquare    Square  ...  DistrictId_96  \\\n",
       "0  0.146341       0.002979    0.003887  0.073203  ...              0   \n",
       "6  0.048780       0.003476    0.004918  0.095506  ...              0   \n",
       "7  0.317073       0.000000         NaN  0.123726  ...              0   \n",
       "8  0.195122       0.000497         NaN  0.099034  ...              0   \n",
       "9  0.292683       0.003972    0.002479  0.070828  ...              0   \n",
       "\n",
       "   DistrictId_97  DistrictId_98  DistrictId_99  Ecology_2_A  Ecology_2_B  \\\n",
       "0              0              0              0            0            1   \n",
       "6              0              0              0            0            1   \n",
       "7              0              0              0            0            1   \n",
       "8              0              0              0            0            1   \n",
       "9              0              0              0            0            1   \n",
       "\n",
       "   Ecology_3_A  Ecology_3_B  Shops_2_A  Shops_2_B  \n",
       "0            0            1          0          1  \n",
       "6            0            1          0          1  \n",
       "7            0            1          0          1  \n",
       "8            0            1          0          1  \n",
       "9            0            1          0          1  \n",
       "\n",
       "[5 rows x 225 columns]"
      ]
     },
     "execution_count": 30,
     "metadata": {},
     "output_type": "execute_result"
    }
   ],
   "source": [
    "data_NaN = data.loc[data['Healthcare_1'].isna()]\n",
    "data_NN = data.loc[data['Healthcare_1'].notna()]\n",
    "\n",
    "\n",
    "data_NaN_t = data_NaN.drop([\"Healthcare_1\"], axis=1)\n",
    "data_NaN_t.insert(1, \"Healthcare_1\", yh_pred_NaN)\n",
    "\n",
    "data_NaN_t['Healthcare_1'] = scaler.fit_transform(data_NaN_t[['Healthcare_1']].astype(np.float64))\n",
    "\n",
    "\n",
    "data_NaN_t.head()\n"
   ]
  },
  {
   "cell_type": "code",
   "execution_count": 31,
   "metadata": {},
   "outputs": [
    {
     "name": "stdout",
     "output_type": "stream",
     "text": [
      "<class 'pandas.core.frame.DataFrame'>\n",
      "Int64Index: 10000 entries, 1 to 9997\n",
      "Columns: 225 entries, Id to Shops_2_B\n",
      "dtypes: float64(12), int64(2), uint8(211)\n",
      "memory usage: 3.2 MB\n"
     ]
    }
   ],
   "source": [
    "ndata = pd.concat([data_NN, data_NaN_t],sort=False)\n",
    "\n",
    "ndata.info()"
   ]
  },
  {
   "cell_type": "code",
   "execution_count": 32,
   "metadata": {},
   "outputs": [
    {
     "data": {
      "text/plain": [
       "array([0.00530451, 0.00385376, 0.00699991, ..., 0.00655254, 0.00648757,\n",
       "       0.00269626])"
      ]
     },
     "execution_count": 32,
     "metadata": {},
     "output_type": "execute_result"
    }
   ],
   "source": [
    "ndata['LifeSquare'].unique()"
   ]
  },
  {
   "cell_type": "code",
   "execution_count": 33,
   "metadata": {},
   "outputs": [
    {
     "data": {
      "text/plain": [
       "count    7887.000000\n",
       "mean        0.004924\n",
       "std         0.011529\n",
       "min         0.000000\n",
       "25%         0.002994\n",
       "50%         0.004333\n",
       "75%         0.005984\n",
       "max         1.000000\n",
       "Name: LifeSquare, dtype: float64"
      ]
     },
     "execution_count": 33,
     "metadata": {},
     "output_type": "execute_result"
    }
   ],
   "source": [
    "ndata['LifeSquare'].describe()"
   ]
  },
  {
   "cell_type": "code",
   "execution_count": 34,
   "metadata": {},
   "outputs": [],
   "source": [
    "data_ls_NaN = ndata.loc[ndata['LifeSquare'].isna()]\n",
    "data_ls = ndata.loc[ndata['LifeSquare'].notna()]\n",
    "\n",
    "y_ls = pd.DataFrame(data_ls['LifeSquare'], columns=['LifeSquare'])"
   ]
  },
  {
   "cell_type": "code",
   "execution_count": 35,
   "metadata": {},
   "outputs": [],
   "source": [
    "data_ls_NaN_t = data_ls_NaN[['Square', 'HouseYear']].copy()\n",
    "data_ls_t = data_ls[['Square', 'HouseYear']].copy()"
   ]
  },
  {
   "cell_type": "code",
   "execution_count": 36,
   "metadata": {},
   "outputs": [],
   "source": [
    "Xl_train, Xl_test, yl_train, yl_test = train_test_split(data_ls_t, y_ls, test_size=0.3, random_state=42)"
   ]
  },
  {
   "cell_type": "code",
   "execution_count": 37,
   "metadata": {},
   "outputs": [
    {
     "data": {
      "text/plain": [
       "(2367, 1)"
      ]
     },
     "execution_count": 37,
     "metadata": {},
     "output_type": "execute_result"
    }
   ],
   "source": [
    "lr.fit(Xl_train, yl_train)\n",
    "yl_pred = lr.predict(Xl_test)\n",
    "yl_pred.shape"
   ]
  },
  {
   "cell_type": "code",
   "execution_count": 38,
   "metadata": {},
   "outputs": [
    {
     "data": {
      "text/plain": [
       "0.018209490548565244"
      ]
     },
     "execution_count": 38,
     "metadata": {},
     "output_type": "execute_result"
    }
   ],
   "source": [
    "initial_r2s = r2_score(yl_test, yl_pred)\n",
    "initial_r2s"
   ]
  },
  {
   "cell_type": "code",
   "execution_count": 39,
   "metadata": {},
   "outputs": [
    {
     "name": "stdout",
     "output_type": "stream",
     "text": [
      "<class 'pandas.core.frame.DataFrame'>\n",
      "Int64Index: 2113 entries, 23 to 9997\n",
      "Columns: 225 entries, Id to Shops_2_B\n",
      "dtypes: float64(12), int64(2), uint8(211)\n",
      "memory usage: 683.0 KB\n"
     ]
    }
   ],
   "source": [
    "data_ls_NaN.info()"
   ]
  },
  {
   "cell_type": "code",
   "execution_count": 40,
   "metadata": {},
   "outputs": [
    {
     "name": "stdout",
     "output_type": "stream",
     "text": [
      "<class 'pandas.core.frame.DataFrame'>\n",
      "Int64Index: 7887 entries, 1 to 9996\n",
      "Columns: 225 entries, Id to Shops_2_B\n",
      "dtypes: float64(12), int64(2), uint8(211)\n",
      "memory usage: 2.5 MB\n"
     ]
    }
   ],
   "source": [
    "data_ls.info()"
   ]
  },
  {
   "cell_type": "code",
   "execution_count": 41,
   "metadata": {},
   "outputs": [],
   "source": [
    "yl_pred = lr.predict(data_ls_NaN_t)"
   ]
  },
  {
   "cell_type": "code",
   "execution_count": 42,
   "metadata": {},
   "outputs": [
    {
     "name": "stdout",
     "output_type": "stream",
     "text": [
      "<class 'pandas.core.frame.DataFrame'>\n",
      "Int64Index: 10000 entries, 1 to 9997\n",
      "Columns: 225 entries, Id to Shops_2_B\n",
      "dtypes: float64(12), int64(2), uint8(211)\n",
      "memory usage: 3.2 MB\n"
     ]
    }
   ],
   "source": [
    "data_ls_NaN_t = data_ls_NaN.drop([\"LifeSquare\"], axis=1)\n",
    "data_ls_NaN_t.insert(1, \"LifeSquare\", yl_pred)\n",
    "\n",
    "ndata = pd.concat([data_ls, data_ls_NaN_t],sort=False)\n",
    "\n",
    "ndata.info()"
   ]
  },
  {
   "cell_type": "code",
   "execution_count": 43,
   "metadata": {},
   "outputs": [
    {
     "data": {
      "text/html": [
       "<div>\n",
       "<style scoped>\n",
       "    .dataframe tbody tr th:only-of-type {\n",
       "        vertical-align: middle;\n",
       "    }\n",
       "\n",
       "    .dataframe tbody tr th {\n",
       "        vertical-align: top;\n",
       "    }\n",
       "\n",
       "    .dataframe thead th {\n",
       "        text-align: right;\n",
       "    }\n",
       "</style>\n",
       "<table border=\"1\" class=\"dataframe\">\n",
       "  <thead>\n",
       "    <tr style=\"text-align: right;\">\n",
       "      <th></th>\n",
       "      <th>Id</th>\n",
       "      <th>Social_2</th>\n",
       "      <th>Healthcare_1</th>\n",
       "      <th>Helthcare_2</th>\n",
       "      <th>HouseYear</th>\n",
       "      <th>HouseFloor</th>\n",
       "      <th>Floor</th>\n",
       "      <th>KitchenSquare</th>\n",
       "      <th>LifeSquare</th>\n",
       "      <th>Square</th>\n",
       "      <th>...</th>\n",
       "      <th>DistrictId_96</th>\n",
       "      <th>DistrictId_97</th>\n",
       "      <th>DistrictId_98</th>\n",
       "      <th>DistrictId_99</th>\n",
       "      <th>Ecology_2_A</th>\n",
       "      <th>Ecology_2_B</th>\n",
       "      <th>Ecology_3_A</th>\n",
       "      <th>Ecology_3_B</th>\n",
       "      <th>Shops_2_A</th>\n",
       "      <th>Shops_2_B</th>\n",
       "    </tr>\n",
       "  </thead>\n",
       "  <tbody>\n",
       "    <tr>\n",
       "      <th>1</th>\n",
       "      <td>15053</td>\n",
       "      <td>0.536135</td>\n",
       "      <td>0.049495</td>\n",
       "      <td>0.166667</td>\n",
       "      <td>0.618182</td>\n",
       "      <td>0.076923</td>\n",
       "      <td>0.146341</td>\n",
       "      <td>0.003972</td>\n",
       "      <td>0.005305</td>\n",
       "      <td>0.100866</td>\n",
       "      <td>...</td>\n",
       "      <td>0</td>\n",
       "      <td>0</td>\n",
       "      <td>0</td>\n",
       "      <td>0</td>\n",
       "      <td>0</td>\n",
       "      <td>1</td>\n",
       "      <td>0</td>\n",
       "      <td>1</td>\n",
       "      <td>0</td>\n",
       "      <td>1</td>\n",
       "    </tr>\n",
       "    <tr>\n",
       "      <th>2</th>\n",
       "      <td>4765</td>\n",
       "      <td>0.401322</td>\n",
       "      <td>0.047226</td>\n",
       "      <td>0.166667</td>\n",
       "      <td>0.527273</td>\n",
       "      <td>0.102564</td>\n",
       "      <td>0.170732</td>\n",
       "      <td>0.000000</td>\n",
       "      <td>0.003854</td>\n",
       "      <td>0.068463</td>\n",
       "      <td>...</td>\n",
       "      <td>0</td>\n",
       "      <td>0</td>\n",
       "      <td>0</td>\n",
       "      <td>0</td>\n",
       "      <td>0</td>\n",
       "      <td>1</td>\n",
       "      <td>0</td>\n",
       "      <td>1</td>\n",
       "      <td>0</td>\n",
       "      <td>1</td>\n",
       "    </tr>\n",
       "    <tr>\n",
       "      <th>3</th>\n",
       "      <td>5809</td>\n",
       "      <td>0.294317</td>\n",
       "      <td>0.223551</td>\n",
       "      <td>0.000000</td>\n",
       "      <td>0.609091</td>\n",
       "      <td>0.145299</td>\n",
       "      <td>0.170732</td>\n",
       "      <td>0.004469</td>\n",
       "      <td>0.007000</td>\n",
       "      <td>0.081597</td>\n",
       "      <td>...</td>\n",
       "      <td>0</td>\n",
       "      <td>0</td>\n",
       "      <td>0</td>\n",
       "      <td>0</td>\n",
       "      <td>0</td>\n",
       "      <td>1</td>\n",
       "      <td>0</td>\n",
       "      <td>1</td>\n",
       "      <td>0</td>\n",
       "      <td>1</td>\n",
       "    </tr>\n",
       "    <tr>\n",
       "      <th>4</th>\n",
       "      <td>10783</td>\n",
       "      <td>0.296484</td>\n",
       "      <td>0.428542</td>\n",
       "      <td>0.333333</td>\n",
       "      <td>0.600000</td>\n",
       "      <td>0.102564</td>\n",
       "      <td>0.243902</td>\n",
       "      <td>0.003476</td>\n",
       "      <td>0.003129</td>\n",
       "      <td>0.060182</td>\n",
       "      <td>...</td>\n",
       "      <td>0</td>\n",
       "      <td>0</td>\n",
       "      <td>0</td>\n",
       "      <td>1</td>\n",
       "      <td>0</td>\n",
       "      <td>1</td>\n",
       "      <td>0</td>\n",
       "      <td>1</td>\n",
       "      <td>0</td>\n",
       "      <td>1</td>\n",
       "    </tr>\n",
       "    <tr>\n",
       "      <th>5</th>\n",
       "      <td>12915</td>\n",
       "      <td>0.398996</td>\n",
       "      <td>0.204166</td>\n",
       "      <td>0.000000</td>\n",
       "      <td>0.918182</td>\n",
       "      <td>0.145299</td>\n",
       "      <td>0.097561</td>\n",
       "      <td>0.005958</td>\n",
       "      <td>0.006191</td>\n",
       "      <td>0.123838</td>\n",
       "      <td>...</td>\n",
       "      <td>0</td>\n",
       "      <td>0</td>\n",
       "      <td>0</td>\n",
       "      <td>0</td>\n",
       "      <td>0</td>\n",
       "      <td>1</td>\n",
       "      <td>0</td>\n",
       "      <td>1</td>\n",
       "      <td>0</td>\n",
       "      <td>1</td>\n",
       "    </tr>\n",
       "  </tbody>\n",
       "</table>\n",
       "<p>5 rows × 225 columns</p>\n",
       "</div>"
      ],
      "text/plain": [
       "      Id  Social_2  Healthcare_1  Helthcare_2  HouseYear  HouseFloor  \\\n",
       "1  15053  0.536135      0.049495     0.166667   0.618182    0.076923   \n",
       "2   4765  0.401322      0.047226     0.166667   0.527273    0.102564   \n",
       "3   5809  0.294317      0.223551     0.000000   0.609091    0.145299   \n",
       "4  10783  0.296484      0.428542     0.333333   0.600000    0.102564   \n",
       "5  12915  0.398996      0.204166     0.000000   0.918182    0.145299   \n",
       "\n",
       "      Floor  KitchenSquare  LifeSquare    Square  ...  DistrictId_96  \\\n",
       "1  0.146341       0.003972    0.005305  0.100866  ...              0   \n",
       "2  0.170732       0.000000    0.003854  0.068463  ...              0   \n",
       "3  0.170732       0.004469    0.007000  0.081597  ...              0   \n",
       "4  0.243902       0.003476    0.003129  0.060182  ...              0   \n",
       "5  0.097561       0.005958    0.006191  0.123838  ...              0   \n",
       "\n",
       "   DistrictId_97  DistrictId_98  DistrictId_99  Ecology_2_A  Ecology_2_B  \\\n",
       "1              0              0              0            0            1   \n",
       "2              0              0              0            0            1   \n",
       "3              0              0              0            0            1   \n",
       "4              0              0              1            0            1   \n",
       "5              0              0              0            0            1   \n",
       "\n",
       "   Ecology_3_A  Ecology_3_B  Shops_2_A  Shops_2_B  \n",
       "1            0            1          0          1  \n",
       "2            0            1          0          1  \n",
       "3            0            1          0          1  \n",
       "4            0            1          0          1  \n",
       "5            0            1          0          1  \n",
       "\n",
       "[5 rows x 225 columns]"
      ]
     },
     "execution_count": 43,
     "metadata": {},
     "output_type": "execute_result"
    }
   ],
   "source": [
    "ndata.head()"
   ]
  },
  {
   "cell_type": "code",
   "execution_count": 45,
   "metadata": {},
   "outputs": [],
   "source": [
    "y_p = pd.DataFrame(ndata['Price'], columns=['Price'])"
   ]
  },
  {
   "cell_type": "code",
   "execution_count": 47,
   "metadata": {},
   "outputs": [],
   "source": [
    "X_p = ndata.drop(['Price'], axis=1)"
   ]
  },
  {
   "cell_type": "code",
   "execution_count": 48,
   "metadata": {},
   "outputs": [],
   "source": [
    "X_train, X_test, y_train, y_test = train_test_split(X_p, y_p, test_size=0.3, random_state=42)"
   ]
  },
  {
   "cell_type": "code",
   "execution_count": 49,
   "metadata": {},
   "outputs": [
    {
     "data": {
      "text/plain": [
       "LinearRegression(copy_X=True, fit_intercept=True, n_jobs=None,\n",
       "         normalize=False)"
      ]
     },
     "execution_count": 49,
     "metadata": {},
     "output_type": "execute_result"
    }
   ],
   "source": [
    "lr.fit(X_train, y_train)"
   ]
  },
  {
   "cell_type": "code",
   "execution_count": 50,
   "metadata": {},
   "outputs": [],
   "source": [
    "y_pred = lr.predict(X_test)"
   ]
  },
  {
   "cell_type": "code",
   "execution_count": 52,
   "metadata": {},
   "outputs": [
    {
     "data": {
      "text/plain": [
       "0.08013164670150974"
      ]
     },
     "execution_count": 52,
     "metadata": {},
     "output_type": "execute_result"
    }
   ],
   "source": [
    "initial_r2s = r2_score(y_test, y_pred)\n",
    "initial_r2s"
   ]
  },
  {
   "cell_type": "code",
   "execution_count": 53,
   "metadata": {},
   "outputs": [
    {
     "data": {
      "text/plain": [
       "8016924797.014695"
      ]
     },
     "execution_count": 53,
     "metadata": {},
     "output_type": "execute_result"
    }
   ],
   "source": [
    "initial_mse = mean_squared_error(y_test, y_pred)\n",
    "initial_mse"
   ]
  },
  {
   "cell_type": "code",
   "execution_count": 99,
   "metadata": {},
   "outputs": [
    {
     "data": {
      "text/plain": [
       "0    KitchenSquare\n",
       "w      1.13606e+06\n",
       "Name: 7, dtype: object"
      ]
     },
     "execution_count": 99,
     "metadata": {},
     "output_type": "execute_result"
    }
   ],
   "source": [
    "pr = pd.DataFrame(X_train.columns)\n",
    "pr.insert(1, \"w\", lr.coef_.reshape(-1,1))\n",
    "\n",
    "pr.loc[pr['w'].idxmax()]"
   ]
  },
  {
   "cell_type": "code",
   "execution_count": 100,
   "metadata": {},
   "outputs": [
    {
     "data": {
      "text/plain": [
       "0     LifeSquare\n",
       "w   -3.40047e+06\n",
       "Name: 8, dtype: object"
      ]
     },
     "execution_count": 100,
     "metadata": {},
     "output_type": "execute_result"
    }
   ],
   "source": [
    "pr.loc[pr['w'].idxmin()]"
   ]
  },
  {
   "cell_type": "code",
   "execution_count": 101,
   "metadata": {},
   "outputs": [
    {
     "data": {
      "text/plain": [
       "1136062.3898786847"
      ]
     },
     "execution_count": 101,
     "metadata": {},
     "output_type": "execute_result"
    }
   ],
   "source": [
    "lr.coef_.flatten().max()"
   ]
  },
  {
   "cell_type": "code",
   "execution_count": 102,
   "metadata": {},
   "outputs": [
    {
     "data": {
      "text/plain": [
       "-3400474.7200804823"
      ]
     },
     "execution_count": 102,
     "metadata": {},
     "output_type": "execute_result"
    }
   ],
   "source": [
    "lr.coef_.flatten().min()"
   ]
  },
  {
   "cell_type": "code",
   "execution_count": 103,
   "metadata": {},
   "outputs": [],
   "source": [
    "import matplotlib.pyplot as plt\n"
   ]
  },
  {
   "cell_type": "code",
   "execution_count": 104,
   "metadata": {},
   "outputs": [
    {
     "data": {
      "text/plain": [
       "Text(0, 0.5, 'Признак')"
      ]
     },
     "execution_count": 104,
     "metadata": {},
     "output_type": "execute_result"
    },
    {
     "data": {
      "image/png": "[encoded data removed]",
      "text/plain": [
       "<Figure size 432x288 with 1 Axes>"
      ]
     },
     "metadata": {
      "needs_background": "light"
     },
     "output_type": "display_data"
    }
   ],
   "source": [
    "plt.barh(X_train.columns, lr.coef_.flatten())\n",
    "plt.xlabel('Вес признака')\n",
    "plt.ylabel('Признак')"
   ]
  },
  {
   "cell_type": "code",
   "execution_count": 105,
   "metadata": {},
   "outputs": [],
   "source": [
    "X_p = ndata.drop(['KitchenSquare', 'LifeSquare'], axis=1)"
   ]
  },
  {
   "cell_type": "code",
   "execution_count": 106,
   "metadata": {},
   "outputs": [],
   "source": [
    "X_train, X_test, y_train, y_test = train_test_split(X_p, y_p, test_size=0.3, random_state=42)"
   ]
  },
  {
   "cell_type": "code",
   "execution_count": 107,
   "metadata": {},
   "outputs": [
    {
     "data": {
      "text/plain": [
       "LinearRegression(copy_X=True, fit_intercept=True, n_jobs=None,\n",
       "         normalize=False)"
      ]
     },
     "execution_count": 107,
     "metadata": {},
     "output_type": "execute_result"
    }
   ],
   "source": [
    "lr.fit(X_train, y_train)"
   ]
  },
  {
   "cell_type": "code",
   "execution_count": 108,
   "metadata": {},
   "outputs": [],
   "source": [
    "y_pred = lr.predict(X_test)"
   ]
  },
  {
   "cell_type": "code",
   "execution_count": 109,
   "metadata": {},
   "outputs": [
    {
     "data": {
      "text/plain": [
       "1.0"
      ]
     },
     "execution_count": 109,
     "metadata": {},
     "output_type": "execute_result"
    }
   ],
   "source": [
    "initial_r2s = r2_score(y_test, y_pred)\n",
    "initial_r2s"
   ]
  },
  {
   "cell_type": "code",
   "execution_count": 110,
   "metadata": {},
   "outputs": [
    {
     "data": {
      "text/plain": [
       "6.470804591228362e-13"
      ]
     },
     "execution_count": 110,
     "metadata": {},
     "output_type": "execute_result"
    }
   ],
   "source": [
    "initial_mse = mean_squared_error(y_test, y_pred)\n",
    "initial_mse"
   ]
  },
  {
   "cell_type": "code",
   "execution_count": 111,
   "metadata": {},
   "outputs": [
    {
     "data": {
      "text/plain": [
       "0.9999999999999998"
      ]
     },
     "execution_count": 111,
     "metadata": {},
     "output_type": "execute_result"
    }
   ],
   "source": [
    "lr.coef_.flatten().max()"
   ]
  },
  {
   "cell_type": "code",
   "execution_count": 112,
   "metadata": {},
   "outputs": [
    {
     "data": {
      "text/plain": [
       "-2.54378791181278e-05"
      ]
     },
     "execution_count": 112,
     "metadata": {},
     "output_type": "execute_result"
    }
   ],
   "source": [
    "lr.coef_.flatten().min()"
   ]
  },
  {
   "cell_type": "code",
   "execution_count": 117,
   "metadata": {},
   "outputs": [
    {
     "data": {
      "text/html": [
       "<div>\n",
       "<style scoped>\n",
       "    .dataframe tbody tr th:only-of-type {\n",
       "        vertical-align: middle;\n",
       "    }\n",
       "\n",
       "    .dataframe tbody tr th {\n",
       "        vertical-align: top;\n",
       "    }\n",
       "\n",
       "    .dataframe thead th {\n",
       "        text-align: right;\n",
       "    }\n",
       "</style>\n",
       "<table border=\"1\" class=\"dataframe\">\n",
       "  <thead>\n",
       "    <tr style=\"text-align: right;\">\n",
       "      <th></th>\n",
       "      <th>Id</th>\n",
       "      <th>Social_2</th>\n",
       "      <th>Healthcare_1</th>\n",
       "      <th>Helthcare_2</th>\n",
       "      <th>HouseYear</th>\n",
       "      <th>HouseFloor</th>\n",
       "      <th>Floor</th>\n",
       "      <th>Square</th>\n",
       "      <th>Rooms</th>\n",
       "      <th>Shops_1</th>\n",
       "      <th>...</th>\n",
       "      <th>DistrictId_96</th>\n",
       "      <th>DistrictId_97</th>\n",
       "      <th>DistrictId_98</th>\n",
       "      <th>DistrictId_99</th>\n",
       "      <th>Ecology_2_A</th>\n",
       "      <th>Ecology_2_B</th>\n",
       "      <th>Ecology_3_A</th>\n",
       "      <th>Ecology_3_B</th>\n",
       "      <th>Shops_2_A</th>\n",
       "      <th>Shops_2_B</th>\n",
       "    </tr>\n",
       "  </thead>\n",
       "  <tbody>\n",
       "    <tr>\n",
       "      <th>3224</th>\n",
       "      <td>9945</td>\n",
       "      <td>0.024372</td>\n",
       "      <td>0.300879</td>\n",
       "      <td>0.000000</td>\n",
       "      <td>0.609091</td>\n",
       "      <td>0.000000</td>\n",
       "      <td>0.146341</td>\n",
       "      <td>0.084609</td>\n",
       "      <td>0.105263</td>\n",
       "      <td>0</td>\n",
       "      <td>...</td>\n",
       "      <td>0</td>\n",
       "      <td>0</td>\n",
       "      <td>0</td>\n",
       "      <td>0</td>\n",
       "      <td>0</td>\n",
       "      <td>1</td>\n",
       "      <td>0</td>\n",
       "      <td>1</td>\n",
       "      <td>1</td>\n",
       "      <td>0</td>\n",
       "    </tr>\n",
       "    <tr>\n",
       "      <th>5878</th>\n",
       "      <td>11017</td>\n",
       "      <td>0.337827</td>\n",
       "      <td>0.319241</td>\n",
       "      <td>0.500000</td>\n",
       "      <td>0.445455</td>\n",
       "      <td>0.025641</td>\n",
       "      <td>0.146341</td>\n",
       "      <td>0.084916</td>\n",
       "      <td>0.157895</td>\n",
       "      <td>2</td>\n",
       "      <td>...</td>\n",
       "      <td>0</td>\n",
       "      <td>0</td>\n",
       "      <td>0</td>\n",
       "      <td>0</td>\n",
       "      <td>1</td>\n",
       "      <td>0</td>\n",
       "      <td>0</td>\n",
       "      <td>1</td>\n",
       "      <td>0</td>\n",
       "      <td>1</td>\n",
       "    </tr>\n",
       "    <tr>\n",
       "      <th>9555</th>\n",
       "      <td>13949</td>\n",
       "      <td>0.316204</td>\n",
       "      <td>0.299589</td>\n",
       "      <td>0.000000</td>\n",
       "      <td>0.590909</td>\n",
       "      <td>0.136752</td>\n",
       "      <td>0.219512</td>\n",
       "      <td>0.063696</td>\n",
       "      <td>0.052632</td>\n",
       "      <td>0</td>\n",
       "      <td>...</td>\n",
       "      <td>0</td>\n",
       "      <td>0</td>\n",
       "      <td>0</td>\n",
       "      <td>0</td>\n",
       "      <td>0</td>\n",
       "      <td>1</td>\n",
       "      <td>0</td>\n",
       "      <td>1</td>\n",
       "      <td>0</td>\n",
       "      <td>1</td>\n",
       "    </tr>\n",
       "    <tr>\n",
       "      <th>3554</th>\n",
       "      <td>16583</td>\n",
       "      <td>0.073804</td>\n",
       "      <td>0.111363</td>\n",
       "      <td>0.000000</td>\n",
       "      <td>0.609091</td>\n",
       "      <td>0.145299</td>\n",
       "      <td>0.073171</td>\n",
       "      <td>0.059453</td>\n",
       "      <td>0.052632</td>\n",
       "      <td>0</td>\n",
       "      <td>...</td>\n",
       "      <td>0</td>\n",
       "      <td>0</td>\n",
       "      <td>0</td>\n",
       "      <td>0</td>\n",
       "      <td>0</td>\n",
       "      <td>1</td>\n",
       "      <td>0</td>\n",
       "      <td>1</td>\n",
       "      <td>0</td>\n",
       "      <td>1</td>\n",
       "    </tr>\n",
       "    <tr>\n",
       "      <th>1631</th>\n",
       "      <td>10722</td>\n",
       "      <td>0.294105</td>\n",
       "      <td>0.287879</td>\n",
       "      <td>0.166667</td>\n",
       "      <td>0.727273</td>\n",
       "      <td>0.119658</td>\n",
       "      <td>0.292683</td>\n",
       "      <td>0.060408</td>\n",
       "      <td>0.052632</td>\n",
       "      <td>0</td>\n",
       "      <td>...</td>\n",
       "      <td>0</td>\n",
       "      <td>0</td>\n",
       "      <td>0</td>\n",
       "      <td>0</td>\n",
       "      <td>0</td>\n",
       "      <td>1</td>\n",
       "      <td>0</td>\n",
       "      <td>1</td>\n",
       "      <td>0</td>\n",
       "      <td>1</td>\n",
       "    </tr>\n",
       "  </tbody>\n",
       "</table>\n",
       "<p>5 rows × 223 columns</p>\n",
       "</div>"
      ],
      "text/plain": [
       "         Id  Social_2  Healthcare_1  Helthcare_2  HouseYear  HouseFloor  \\\n",
       "3224   9945  0.024372      0.300879     0.000000   0.609091    0.000000   \n",
       "5878  11017  0.337827      0.319241     0.500000   0.445455    0.025641   \n",
       "9555  13949  0.316204      0.299589     0.000000   0.590909    0.136752   \n",
       "3554  16583  0.073804      0.111363     0.000000   0.609091    0.145299   \n",
       "1631  10722  0.294105      0.287879     0.166667   0.727273    0.119658   \n",
       "\n",
       "         Floor    Square     Rooms  Shops_1  ...  DistrictId_96  \\\n",
       "3224  0.146341  0.084609  0.105263        0  ...              0   \n",
       "5878  0.146341  0.084916  0.157895        2  ...              0   \n",
       "9555  0.219512  0.063696  0.052632        0  ...              0   \n",
       "3554  0.073171  0.059453  0.052632        0  ...              0   \n",
       "1631  0.292683  0.060408  0.052632        0  ...              0   \n",
       "\n",
       "      DistrictId_97  DistrictId_98  DistrictId_99  Ecology_2_A  Ecology_2_B  \\\n",
       "3224              0              0              0            0            1   \n",
       "5878              0              0              0            1            0   \n",
       "9555              0              0              0            0            1   \n",
       "3554              0              0              0            0            1   \n",
       "1631              0              0              0            0            1   \n",
       "\n",
       "      Ecology_3_A  Ecology_3_B  Shops_2_A  Shops_2_B  \n",
       "3224            0            1          1          0  \n",
       "5878            0            1          0          1  \n",
       "9555            0            1          0          1  \n",
       "3554            0            1          0          1  \n",
       "1631            0            1          0          1  \n",
       "\n",
       "[5 rows x 223 columns]"
      ]
     },
     "execution_count": 117,
     "metadata": {},
     "output_type": "execute_result"
    }
   ],
   "source": [
    "X_train.head()"
   ]
  },
  {
   "cell_type": "code",
   "execution_count": 124,
   "metadata": {},
   "outputs": [],
   "source": [
    "data_t = pd.read_csv(\"test.csv\")\n",
    "\n",
    "data_t['DistrictId'] = data_t['DistrictId'].apply(str)"
   ]
  },
  {
   "cell_type": "code",
   "execution_count": 125,
   "metadata": {},
   "outputs": [],
   "source": [
    "numeric_subset = data_t[['Id','Social_2', 'Healthcare_1', 'Helthcare_2', 'HouseYear','HouseFloor','Floor','KitchenSquare','LifeSquare','Square','Rooms', 'Shops_1', 'Ecology_1']]\n",
    "categorical_subset = data_t[['DistrictId', 'Ecology_2', 'Ecology_3','Shops_2']]\n",
    "categorical_subset = pd.get_dummies(categorical_subset)\n",
    "\n",
    "data_t = pd.concat([numeric_subset, categorical_subset], axis = 1)"
   ]
  },
  {
   "cell_type": "code",
   "execution_count": 126,
   "metadata": {},
   "outputs": [],
   "source": [
    "data_t['Social_2'] = scaler.fit_transform(data_t[['Social_2']].astype(np.float64))\n",
    "data_t['Healthcare_1'] = scaler.fit_transform(data_t[['Healthcare_1']].astype(np.float64))\n",
    "data_t['Helthcare_2'] = scaler.fit_transform(data_t[['Helthcare_2']].astype(np.float64))\n",
    "\n",
    "data_t['HouseYear'] = scaler.fit_transform(data_t[['HouseYear']].astype(np.float64))\n",
    "data_t['HouseFloor'] = scaler.fit_transform(data_t[['HouseFloor']].astype(np.float64))\n",
    "data_t['Floor'] = scaler.fit_transform(data_t[['Floor']].astype(np.float64))\n",
    "data_t['KitchenSquare'] = scaler.fit_transform(data_t[['KitchenSquare']].astype(np.float64))\n",
    "data_t['LifeSquare'] = scaler.fit_transform(data_t[['LifeSquare']].astype(np.float64))\n",
    "data_t['Square'] = scaler.fit_transform(data_t[['Square']].astype(np.float64))\n",
    "data_t['Rooms'] = scaler.fit_transform(data_t[['Rooms']].astype(np.float64))\n",
    "\n",
    "data_t = data_t.drop(['KitchenSquare', 'LifeSquare'], axis=1)\n"
   ]
  },
  {
   "cell_type": "code",
   "execution_count": 127,
   "metadata": {},
   "outputs": [
    {
     "data": {
      "text/html": [
       "<div>\n",
       "<style scoped>\n",
       "    .dataframe tbody tr th:only-of-type {\n",
       "        vertical-align: middle;\n",
       "    }\n",
       "\n",
       "    .dataframe tbody tr th {\n",
       "        vertical-align: top;\n",
       "    }\n",
       "\n",
       "    .dataframe thead th {\n",
       "        text-align: right;\n",
       "    }\n",
       "</style>\n",
       "<table border=\"1\" class=\"dataframe\">\n",
       "  <thead>\n",
       "    <tr style=\"text-align: right;\">\n",
       "      <th></th>\n",
       "      <th>Id</th>\n",
       "      <th>Social_2</th>\n",
       "      <th>Healthcare_1</th>\n",
       "      <th>Helthcare_2</th>\n",
       "      <th>HouseYear</th>\n",
       "      <th>HouseFloor</th>\n",
       "      <th>Floor</th>\n",
       "      <th>Square</th>\n",
       "      <th>Rooms</th>\n",
       "      <th>Shops_1</th>\n",
       "      <th>...</th>\n",
       "      <th>DistrictId_96</th>\n",
       "      <th>DistrictId_97</th>\n",
       "      <th>DistrictId_98</th>\n",
       "      <th>DistrictId_99</th>\n",
       "      <th>Ecology_2_A</th>\n",
       "      <th>Ecology_2_B</th>\n",
       "      <th>Ecology_3_A</th>\n",
       "      <th>Ecology_3_B</th>\n",
       "      <th>Shops_2_A</th>\n",
       "      <th>Shops_2_B</th>\n",
       "    </tr>\n",
       "  </thead>\n",
       "  <tbody>\n",
       "    <tr>\n",
       "      <th>0</th>\n",
       "      <td>725</td>\n",
       "      <td>0.136400</td>\n",
       "      <td>NaN</td>\n",
       "      <td>0.000000</td>\n",
       "      <td>0.571429</td>\n",
       "      <td>0.141414</td>\n",
       "      <td>0.064935</td>\n",
       "      <td>0.218413</td>\n",
       "      <td>0.117647</td>\n",
       "      <td>0</td>\n",
       "      <td>...</td>\n",
       "      <td>0</td>\n",
       "      <td>0</td>\n",
       "      <td>0</td>\n",
       "      <td>0</td>\n",
       "      <td>0</td>\n",
       "      <td>1</td>\n",
       "      <td>0</td>\n",
       "      <td>1</td>\n",
       "      <td>0</td>\n",
       "      <td>1</td>\n",
       "    </tr>\n",
       "    <tr>\n",
       "      <th>1</th>\n",
       "      <td>15856</td>\n",
       "      <td>0.067090</td>\n",
       "      <td>NaN</td>\n",
       "      <td>0.000000</td>\n",
       "      <td>0.616071</td>\n",
       "      <td>0.010101</td>\n",
       "      <td>0.064935</td>\n",
       "      <td>0.305683</td>\n",
       "      <td>0.117647</td>\n",
       "      <td>2</td>\n",
       "      <td>...</td>\n",
       "      <td>0</td>\n",
       "      <td>0</td>\n",
       "      <td>0</td>\n",
       "      <td>0</td>\n",
       "      <td>0</td>\n",
       "      <td>1</td>\n",
       "      <td>0</td>\n",
       "      <td>1</td>\n",
       "      <td>0</td>\n",
       "      <td>1</td>\n",
       "    </tr>\n",
       "    <tr>\n",
       "      <th>2</th>\n",
       "      <td>5480</td>\n",
       "      <td>0.389638</td>\n",
       "      <td>0.969684</td>\n",
       "      <td>0.833333</td>\n",
       "      <td>0.008929</td>\n",
       "      <td>0.050505</td>\n",
       "      <td>0.012987</td>\n",
       "      <td>0.055023</td>\n",
       "      <td>0.058824</td>\n",
       "      <td>5</td>\n",
       "      <td>...</td>\n",
       "      <td>0</td>\n",
       "      <td>0</td>\n",
       "      <td>0</td>\n",
       "      <td>0</td>\n",
       "      <td>0</td>\n",
       "      <td>1</td>\n",
       "      <td>0</td>\n",
       "      <td>1</td>\n",
       "      <td>0</td>\n",
       "      <td>1</td>\n",
       "    </tr>\n",
       "    <tr>\n",
       "      <th>3</th>\n",
       "      <td>15664</td>\n",
       "      <td>0.233413</td>\n",
       "      <td>NaN</td>\n",
       "      <td>0.500000</td>\n",
       "      <td>0.883929</td>\n",
       "      <td>0.222222</td>\n",
       "      <td>0.272727</td>\n",
       "      <td>0.322720</td>\n",
       "      <td>0.117647</td>\n",
       "      <td>3</td>\n",
       "      <td>...</td>\n",
       "      <td>0</td>\n",
       "      <td>0</td>\n",
       "      <td>0</td>\n",
       "      <td>0</td>\n",
       "      <td>0</td>\n",
       "      <td>1</td>\n",
       "      <td>0</td>\n",
       "      <td>1</td>\n",
       "      <td>0</td>\n",
       "      <td>1</td>\n",
       "    </tr>\n",
       "    <tr>\n",
       "      <th>4</th>\n",
       "      <td>14275</td>\n",
       "      <td>0.024372</td>\n",
       "      <td>NaN</td>\n",
       "      <td>0.000000</td>\n",
       "      <td>0.973214</td>\n",
       "      <td>0.171717</td>\n",
       "      <td>0.207792</td>\n",
       "      <td>0.207806</td>\n",
       "      <td>0.058824</td>\n",
       "      <td>0</td>\n",
       "      <td>...</td>\n",
       "      <td>0</td>\n",
       "      <td>0</td>\n",
       "      <td>0</td>\n",
       "      <td>0</td>\n",
       "      <td>0</td>\n",
       "      <td>1</td>\n",
       "      <td>0</td>\n",
       "      <td>1</td>\n",
       "      <td>1</td>\n",
       "      <td>0</td>\n",
       "    </tr>\n",
       "  </tbody>\n",
       "</table>\n",
       "<p>5 rows × 218 columns</p>\n",
       "</div>"
      ],
      "text/plain": [
       "      Id  Social_2  Healthcare_1  Helthcare_2  HouseYear  HouseFloor  \\\n",
       "0    725  0.136400           NaN     0.000000   0.571429    0.141414   \n",
       "1  15856  0.067090           NaN     0.000000   0.616071    0.010101   \n",
       "2   5480  0.389638      0.969684     0.833333   0.008929    0.050505   \n",
       "3  15664  0.233413           NaN     0.500000   0.883929    0.222222   \n",
       "4  14275  0.024372           NaN     0.000000   0.973214    0.171717   \n",
       "\n",
       "      Floor    Square     Rooms  Shops_1  ...  DistrictId_96  DistrictId_97  \\\n",
       "0  0.064935  0.218413  0.117647        0  ...              0              0   \n",
       "1  0.064935  0.305683  0.117647        2  ...              0              0   \n",
       "2  0.012987  0.055023  0.058824        5  ...              0              0   \n",
       "3  0.272727  0.322720  0.117647        3  ...              0              0   \n",
       "4  0.207792  0.207806  0.058824        0  ...              0              0   \n",
       "\n",
       "   DistrictId_98  DistrictId_99  Ecology_2_A  Ecology_2_B  Ecology_3_A  \\\n",
       "0              0              0            0            1            0   \n",
       "1              0              0            0            1            0   \n",
       "2              0              0            0            1            0   \n",
       "3              0              0            0            1            0   \n",
       "4              0              0            0            1            0   \n",
       "\n",
       "   Ecology_3_B  Shops_2_A  Shops_2_B  \n",
       "0            1          0          1  \n",
       "1            1          0          1  \n",
       "2            1          0          1  \n",
       "3            1          0          1  \n",
       "4            1          1          0  \n",
       "\n",
       "[5 rows x 218 columns]"
      ]
     },
     "execution_count": 127,
     "metadata": {},
     "output_type": "execute_result"
    }
   ],
   "source": [
    "data_t.head()"
   ]
  },
  {
   "cell_type": "code",
   "execution_count": 128,
   "metadata": {},
   "outputs": [
    {
     "ename": "ValueError",
     "evalue": "Input contains NaN, infinity or a value too large for dtype('float64').",
     "output_type": "error",
     "traceback": [
      "\u001b[1;31m---------------------------------------------------------------------------\u001b[0m",
      "\u001b[1;31mValueError\u001b[0m                                Traceback (most recent call last)",
      "\u001b[1;32m<ipython-input-128-95e349bb0718>\u001b[0m in \u001b[0;36m<module>\u001b[1;34m\u001b[0m\n\u001b[1;32m----> 1\u001b[1;33m \u001b[0my_t_pred\u001b[0m \u001b[1;33m=\u001b[0m \u001b[0mlr\u001b[0m\u001b[1;33m.\u001b[0m\u001b[0mpredict\u001b[0m\u001b[1;33m(\u001b[0m\u001b[0mdata_t\u001b[0m\u001b[1;33m)\u001b[0m\u001b[1;33m\u001b[0m\u001b[1;33m\u001b[0m\u001b[0m\n\u001b[0m\u001b[0;32m      2\u001b[0m \u001b[1;33m\u001b[0m\u001b[0m\n\u001b[0;32m      3\u001b[0m \u001b[0my_t_pred\u001b[0m\u001b[1;33m.\u001b[0m\u001b[0mshape\u001b[0m\u001b[1;33m\u001b[0m\u001b[1;33m\u001b[0m\u001b[0m\n",
      "\u001b[1;32mC:\\Work\\anaconda\\lib\\site-packages\\sklearn\\linear_model\\base.py\u001b[0m in \u001b[0;36mpredict\u001b[1;34m(self, X)\u001b[0m\n\u001b[0;32m    211\u001b[0m             \u001b[0mReturns\u001b[0m \u001b[0mpredicted\u001b[0m \u001b[0mvalues\u001b[0m\u001b[1;33m.\u001b[0m\u001b[1;33m\u001b[0m\u001b[1;33m\u001b[0m\u001b[0m\n\u001b[0;32m    212\u001b[0m         \"\"\"\n\u001b[1;32m--> 213\u001b[1;33m         \u001b[1;32mreturn\u001b[0m \u001b[0mself\u001b[0m\u001b[1;33m.\u001b[0m\u001b[0m_decision_function\u001b[0m\u001b[1;33m(\u001b[0m\u001b[0mX\u001b[0m\u001b[1;33m)\u001b[0m\u001b[1;33m\u001b[0m\u001b[1;33m\u001b[0m\u001b[0m\n\u001b[0m\u001b[0;32m    214\u001b[0m \u001b[1;33m\u001b[0m\u001b[0m\n\u001b[0;32m    215\u001b[0m     \u001b[0m_preprocess_data\u001b[0m \u001b[1;33m=\u001b[0m \u001b[0mstaticmethod\u001b[0m\u001b[1;33m(\u001b[0m\u001b[0m_preprocess_data\u001b[0m\u001b[1;33m)\u001b[0m\u001b[1;33m\u001b[0m\u001b[1;33m\u001b[0m\u001b[0m\n",
      "\u001b[1;32mC:\\Work\\anaconda\\lib\\site-packages\\sklearn\\linear_model\\base.py\u001b[0m in \u001b[0;36m_decision_function\u001b[1;34m(self, X)\u001b[0m\n\u001b[0;32m    194\u001b[0m         \u001b[0mcheck_is_fitted\u001b[0m\u001b[1;33m(\u001b[0m\u001b[0mself\u001b[0m\u001b[1;33m,\u001b[0m \u001b[1;34m\"coef_\"\u001b[0m\u001b[1;33m)\u001b[0m\u001b[1;33m\u001b[0m\u001b[1;33m\u001b[0m\u001b[0m\n\u001b[0;32m    195\u001b[0m \u001b[1;33m\u001b[0m\u001b[0m\n\u001b[1;32m--> 196\u001b[1;33m         \u001b[0mX\u001b[0m \u001b[1;33m=\u001b[0m \u001b[0mcheck_array\u001b[0m\u001b[1;33m(\u001b[0m\u001b[0mX\u001b[0m\u001b[1;33m,\u001b[0m \u001b[0maccept_sparse\u001b[0m\u001b[1;33m=\u001b[0m\u001b[1;33m[\u001b[0m\u001b[1;34m'csr'\u001b[0m\u001b[1;33m,\u001b[0m \u001b[1;34m'csc'\u001b[0m\u001b[1;33m,\u001b[0m \u001b[1;34m'coo'\u001b[0m\u001b[1;33m]\u001b[0m\u001b[1;33m)\u001b[0m\u001b[1;33m\u001b[0m\u001b[1;33m\u001b[0m\u001b[0m\n\u001b[0m\u001b[0;32m    197\u001b[0m         return safe_sparse_dot(X, self.coef_.T,\n\u001b[0;32m    198\u001b[0m                                dense_output=True) + self.intercept_\n",
      "\u001b[1;32mC:\\Work\\anaconda\\lib\\site-packages\\sklearn\\utils\\validation.py\u001b[0m in \u001b[0;36mcheck_array\u001b[1;34m(array, accept_sparse, accept_large_sparse, dtype, order, copy, force_all_finite, ensure_2d, allow_nd, ensure_min_samples, ensure_min_features, warn_on_dtype, estimator)\u001b[0m\n\u001b[0;32m    571\u001b[0m         \u001b[1;32mif\u001b[0m \u001b[0mforce_all_finite\u001b[0m\u001b[1;33m:\u001b[0m\u001b[1;33m\u001b[0m\u001b[1;33m\u001b[0m\u001b[0m\n\u001b[0;32m    572\u001b[0m             _assert_all_finite(array,\n\u001b[1;32m--> 573\u001b[1;33m                                allow_nan=force_all_finite == 'allow-nan')\n\u001b[0m\u001b[0;32m    574\u001b[0m \u001b[1;33m\u001b[0m\u001b[0m\n\u001b[0;32m    575\u001b[0m     \u001b[0mshape_repr\u001b[0m \u001b[1;33m=\u001b[0m \u001b[0m_shape_repr\u001b[0m\u001b[1;33m(\u001b[0m\u001b[0marray\u001b[0m\u001b[1;33m.\u001b[0m\u001b[0mshape\u001b[0m\u001b[1;33m)\u001b[0m\u001b[1;33m\u001b[0m\u001b[1;33m\u001b[0m\u001b[0m\n",
      "\u001b[1;32mC:\\Work\\anaconda\\lib\\site-packages\\sklearn\\utils\\validation.py\u001b[0m in \u001b[0;36m_assert_all_finite\u001b[1;34m(X, allow_nan)\u001b[0m\n\u001b[0;32m     54\u001b[0m                 not allow_nan and not np.isfinite(X).all()):\n\u001b[0;32m     55\u001b[0m             \u001b[0mtype_err\u001b[0m \u001b[1;33m=\u001b[0m \u001b[1;34m'infinity'\u001b[0m \u001b[1;32mif\u001b[0m \u001b[0mallow_nan\u001b[0m \u001b[1;32melse\u001b[0m \u001b[1;34m'NaN, infinity'\u001b[0m\u001b[1;33m\u001b[0m\u001b[1;33m\u001b[0m\u001b[0m\n\u001b[1;32m---> 56\u001b[1;33m             \u001b[1;32mraise\u001b[0m \u001b[0mValueError\u001b[0m\u001b[1;33m(\u001b[0m\u001b[0mmsg_err\u001b[0m\u001b[1;33m.\u001b[0m\u001b[0mformat\u001b[0m\u001b[1;33m(\u001b[0m\u001b[0mtype_err\u001b[0m\u001b[1;33m,\u001b[0m \u001b[0mX\u001b[0m\u001b[1;33m.\u001b[0m\u001b[0mdtype\u001b[0m\u001b[1;33m)\u001b[0m\u001b[1;33m)\u001b[0m\u001b[1;33m\u001b[0m\u001b[1;33m\u001b[0m\u001b[0m\n\u001b[0m\u001b[0;32m     57\u001b[0m \u001b[1;33m\u001b[0m\u001b[0m\n\u001b[0;32m     58\u001b[0m \u001b[1;33m\u001b[0m\u001b[0m\n",
      "\u001b[1;31mValueError\u001b[0m: Input contains NaN, infinity or a value too large for dtype('float64')."
     ]
    }
   ],
   "source": [
    "y_t_pred = lr.predict(data_t)\n",
    "\n",
    "y_t_pred.shape"
   ]
  },
  {
   "cell_type": "code",
   "execution_count": null,
   "metadata": {},
   "outputs": [],
   "source": []
  },
  {
   "cell_type": "code",
   "execution_count": null,
   "metadata": {},
   "outputs": [],
   "source": []
  },
  {
   "cell_type": "code",
   "execution_count": null,
   "metadata": {},
   "outputs": [],
   "source": []
  },
  {
   "cell_type": "code",
   "execution_count": null,
   "metadata": {},
   "outputs": [],
   "source": [
    "df = pd.DataFrame(y_pred)\n",
    "df.to_csv('Osipov_predictions.csv',index=True)"
   ]
  }
 ],
 "metadata": {
  "kernelspec": {
   "display_name": "Python 3",
   "language": "python",
   "name": "python3"
  },
  "language_info": {
   "codemirror_mode": {
    "name": "ipython",
    "version": 3
   },
   "file_extension": ".py",
   "mimetype": "text/x-python",
   "name": "python",
   "nbconvert_exporter": "python",
   "pygments_lexer": "ipython3",
   "version": "3.7.3"
  }
 },
 "nbformat": 4,
 "nbformat_minor": 2
}
